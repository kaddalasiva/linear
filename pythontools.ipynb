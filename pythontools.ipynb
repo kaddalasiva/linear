{
  "nbformat": 4,
  "nbformat_minor": 0,
  "metadata": {
    "colab": {
      "name": "pythontools.ipynb",
      "version": "0.3.2",
      "provenance": [],
      "collapsed_sections": []
    },
    "kernelspec": {
      "name": "python3",
      "display_name": "Python 3"
    }
  },
  "cells": [
    {
      "metadata": {
        "id": "L4AIZVU0cVgs",
        "colab_type": "toc"
      },
      "cell_type": "markdown",
      "source": [
        "# Table of Contents\n",
        "\n",
        ">[Understanding and working with Data using Python Tools Numpy and Pandas](#scrollTo=1IaEVuk_QZ9A)\n",
        "\n",
        ">[Special handling of Vectors](#scrollTo=1IaEVuk_QZ9A)\n",
        "\n",
        ">[What is NumPy? Ways of creating NumPy Array](#scrollTo=3sAVEsqZa9v3)\n",
        "\n",
        ">[Important attributes of a NumPy object](#scrollTo=2bzZ1832f7uo)\n",
        "\n",
        ">[Special Features of NumPy Array](#scrollTo=lJ9PF2Jyl69t)\n",
        "\n",
        ">[What is Pandas and why to use it?](#scrollTo=udlL24ocrbeJ)\n",
        "\n",
        ">[Simple Data Wrangling using Pandas](#scrollTo=GfoLajxX3mMe)\n",
        "\n",
        ">[Indexing rows](#scrollTo=LT-9OuT0Etql)\n",
        "\n",
        ">[Types of Data](#scrollTo=QmjBeB79Wmso)\n",
        "\n",
        ">[Describing your data](#scrollTo=QmjBeB79Wmso)\n",
        "\n",
        ">[Data Visualization with matplotlib](#scrollTo=g3nxE5jgJ6Im)\n",
        "\n",
        ">[References](#scrollTo=joWpjZ8naJJ3)\n",
        "\n"
      ]
    },
    {
      "metadata": {
        "id": "1IaEVuk_QZ9A",
        "colab_type": "text"
      },
      "cell_type": "markdown",
      "source": [
        "# Understanding and working with Data using Python Tools Numpy and Pandas\n",
        "\n",
        "Python has become one of the standard languages for Machine Learning Applications. As we know that data is usually stored in tabular format and a table is akin to a matrix with rows and columns. \n",
        "\n",
        "Consider a data that records petal width and length of two varieties of iris flower: versicolor and virginica. Each column is also called a dimension. Below is a scatter plot:\n",
        "\n",
        "![alt text](https://i2.wp.com/scienceprog.com/wp-content/uploads/2017/01/iris_data_plot_with_boundary.png?fit=387%2C271&ssl=1)\n",
        "\n",
        "The blue line clearly indicates a separation boundary that separates the two varieties. Now given a petal width and length based on which side the point lie to that line, we can predict what variety it is.\n",
        "\n",
        "In this case we had each flowers represented as a 2-vector [length, width]. And we found a separating boundly using some linear algebra calculations that work on the matrix formed by all rows of the data provided.\n",
        "\n",
        "We could also have 3 dimensions, say we also bring in sepal width, The separation may now look like:\n",
        "\n",
        "![alt text](https://codesachin.files.wordpress.com/2015/08/linearly_separable_4.png)\n",
        "\n",
        "This can even be extended to 4 or more dimensions (not easy to visualize)\n",
        "\n",
        "For example say we want to classify a video as one of 3 categories (good, spam, clickbait) based on what we know about it. We recorded 4 features for each video: duration, % viewers that watched it beyond 1 minute, number of views per day, number of times it was flagged as spam. So now we can represent each video as a vector e.g. [10.5, 5.2, 3.25, 7.0] represent a video that lasts 10.5 minutes, but only 5.2% viewers watch for more than a minute, it gets 3.25 views per day on average, and it was flagged 7 times as spam.\n",
        "\n",
        "As you can see, each axis may have a different meaning. Based on this vector, our Machine Learning system may predict that there is an 80% probability that it is a spam video, 18% that it is clickbait, and 2% that it is a good video. This could be represented as the following vector: class_probabilities = [0.8,0.18,0.02].\n",
        "\n",
        "# Special handling of Vectors\n",
        "\n",
        "As can be observed, vectors can be used in Machine Learning to define observations and predictions. Therefore, Matrix and vector manipulations are extremely important for scientific computations. Both [NumPy](http://www.numpy.org/) and [Pandas](https://pandas.pydata.org/) have emerged to be essential libraries for any scientific computation, including machine learning, in python due to their intuitive syntax and high-performance matrix computation capabilities.\n",
        "\n",
        "Suppose I want to multiply two arrays (vectors) element-wise of size 3: [1, 2, 3] and [4, 5, 6]. I will have to do three multiplication operations in a loop resulting in [4, 10, 18], i.e. However in modern processors we can use SIMD speed optimization that applies same isntruction (in this case multiply) to multiple data elemets simultaneously (on each parallel processor either in CPU or GPU). For example with a computer with 4 parallel threads, following is possible:\n",
        "\n",
        "![Multiplication vectorized and not vectorized](https://datascience.blog.wzb.eu/wp-content/uploads/10/2018/02/vectorization-300x276.png)\n",
        "\n",
        "In Python we can multiply two sequences with a [list comprehension](http://www.pythonforbeginners.com/basics/list-comprehensions-in-python):\n"
      ]
    },
    {
      "metadata": {
        "id": "XiLcLrOuWmCo",
        "colab_type": "code",
        "colab": {
          "base_uri": "https://localhost:8080/",
          "height": 34
        },
        "outputId": "fab7c2a1-03ed-454b-b3f3-9ebf2d72be66"
      },
      "cell_type": "code",
      "source": [
        "a = [1, 2, 3, 4, 5]\n",
        "b = [6, 7, 8, 9, 10]\n",
        "[x * y for x, y in zip(a, b)]"
      ],
      "execution_count": 1,
      "outputs": [
        {
          "output_type": "execute_result",
          "data": {
            "text/plain": [
              "[6, 14, 24, 36, 50]"
            ]
          },
          "metadata": {
            "tags": []
          },
          "execution_count": 1
        }
      ]
    },
    {
      "metadata": {
        "id": "YQNtaaF3XLzf",
        "colab_type": "text"
      },
      "cell_type": "markdown",
      "source": [
        "This is fine for smaller data. However, it is not as efficient as vectorizing the multiplication with [NumPy](http://www.numpy.org/). When we put the data into NumPy arrays, we can write the multiplication as follows:"
      ]
    },
    {
      "metadata": {
        "id": "A-PYxR0hXQl_",
        "colab_type": "code",
        "colab": {}
      },
      "cell_type": "code",
      "source": [
        "import numpy as np\n",
        "a = np.array([1, 2, 3, 4, 5])\n",
        "b = np.array([6, 7, 8, 9, 10])\n",
        "a * b\n",
        "array([ 6, 14, 24, 36, 50])"
      ],
      "execution_count": 0,
      "outputs": []
    },
    {
      "metadata": {
        "id": "Psa_1qpXXZno",
        "colab_type": "text"
      },
      "cell_type": "markdown",
      "source": [
        "First of all, that’s much more compact than writing a list comprehension. Furthermore, it’s also much faster due to vectorization, as we can see when we multiply two arrays with 1,000,000 integers each. Let’s start with the unoptimized, pure Python implementation using random integers. We use [random](https://machinelearningmastery.com/how-to-generate-random-numbers-in-python/) module in Python to generate random numbers. And the [%timeit](http://ipython.readthedocs.io/en/stable/interactive/magics.html#magic-timeit) “magic command” in an IPython session measures the execution time. Below execution took 100ms for me."
      ]
    },
    {
      "metadata": {
        "id": "rv6PsnoZXbTg",
        "colab_type": "code",
        "colab": {
          "base_uri": "https://localhost:8080/",
          "height": 34
        },
        "outputId": "7dcb4bcc-320b-45e6-ff12-02663b356c48"
      },
      "cell_type": "code",
      "source": [
        "import random\n",
        "a = [random.randint(1, 100) for _ in range(1000000)]\n",
        "b = [random.randint(1, 100) for _ in range(1000000)]\n",
        "%timeit res = [x * y for x, y in zip(a, b)]"
      ],
      "execution_count": 3,
      "outputs": [
        {
          "output_type": "stream",
          "text": [
            "10 loops, best of 3: 99.9 ms per loop\n"
          ],
          "name": "stdout"
        }
      ]
    },
    {
      "metadata": {
        "id": "EO4-lKoJZfR4",
        "colab_type": "text"
      },
      "cell_type": "markdown",
      "source": [
        "Now let us see vectorized implementation with NumPy. First of all, Numpy has a built in random generator. and implementation is also simple  and natural rather than using a list comprehension. It took only 3.22 ms. A 30X speedup."
      ]
    },
    {
      "metadata": {
        "id": "RGENiRRlZqiH",
        "colab_type": "code",
        "colab": {
          "base_uri": "https://localhost:8080/",
          "height": 34
        },
        "outputId": "51504618-0fc6-4779-b470-d587d7866a6d"
      },
      "cell_type": "code",
      "source": [
        "import numpy as np\n",
        "a = np.random.randint(1, 100, 1000000)\n",
        "b = np.random.randint(1, 100, 1000000)\n",
        "%timeit a * b"
      ],
      "execution_count": 4,
      "outputs": [
        {
          "output_type": "stream",
          "text": [
            "100 loops, best of 3: 3.22 ms per loop\n"
          ],
          "name": "stdout"
        }
      ]
    },
    {
      "metadata": {
        "id": "3sAVEsqZa9v3",
        "colab_type": "text"
      },
      "cell_type": "markdown",
      "source": [
        "# What is NumPy? Ways of creating NumPy Array\n",
        "NumPy stands for ‘Numerical Python’ or ‘Numeric Python’. It is an open source module of Python which provides fast mathematical computation on arrays and matrices. Since, arrays and matrices are an essential part of the Machine Learning ecosystem, NumPy along with Machine Learning modules like Scikit-learn, Pandas, Matplotlib, TensorFlow, etc. complete the Python Machine Learning Ecosystem.\n",
        "\n",
        "As we saw earlier, in a tabular data the columns have same datatype. Regular Python lists are hetrogeneous. A Numpy arry on the other hand shares same data type for its elements. Below code describes how to import numpy and several ways to create numpy arrays."
      ]
    },
    {
      "metadata": {
        "id": "ydl2ign1bYQX",
        "colab_type": "code",
        "colab": {
          "base_uri": "https://localhost:8080/",
          "height": 544
        },
        "outputId": "7db1e679-7698-410e-de68-1eaa0643811a"
      },
      "cell_type": "code",
      "source": [
        "import numpy as np\n",
        "a = np.array([1, 2, 3]) # convert list to array\n",
        "type(a)\n",
        "\n",
        "a = np.zeros((2, 3)) # create matrix of all zeros\n",
        "print(\"\\nzeros: create a 2x3 matrix of all zeros\", a, sep=\"\\n\")\n",
        "\n",
        "a = np.ones((3,4), dtype=np.int16) # create a 3x4 matrix of all 1s\n",
        "print(\"\\nones: create matrix of all 1s\", a, sep=\"\\n\") # note the dtype attribute, you can try others\n",
        "\n",
        "a = np.full((3,4), 0.5) # create a 3x4 matrix where each element is 0.5\n",
        "print(\"\\nfull: fill matrix with given value\", a, sep=\"\\n\")\n",
        "\n",
        "a = np.arange(10, 30, 5) # create a numpy array from range(10, 20, 5)\n",
        "print(\"\\narange int: create array from range object\", a, sep=\"\\n\")\n",
        "\n",
        "a = np.arange(1, 3, 0.3) # arange can take floating point arguments\n",
        "print(\"\\narange (float): special range with floating increments\", a, sep=\"\\n\") # whereas pyhton range can't\n",
        "\n",
        "a = np.linspace(0, 3, 6) # fill the range from 0 to 3 by 6 equidistant values. \n",
        "print(\"\\nlinspace: fill a range with fixed number of equally spaced values\", a, sep=\"\\n\") # linspace: linear space\n",
        "\n",
        "a = np.random.rand(2, 3) # create a 2x3 matrix with random values. \n",
        "print(\"\\nrandom: fill a matrix with random values\", a, sep=\"\\n\") #rand returns values between 0 and 1\n",
        "\n",
        "a = np.empty((2,3)) #create a 2x3 matrix that is empty. Note that the values \n",
        "print(\"\\nempty: create empty matrix, values shown are garbage\", a, sep=\"\\n\") # filled are simple garbage\n"
      ],
      "execution_count": 20,
      "outputs": [
        {
          "output_type": "stream",
          "text": [
            "\n",
            "zeros: create a 2x3 matrix of all zeros\n",
            "[[0. 0. 0.]\n",
            " [0. 0. 0.]]\n",
            "\n",
            "ones: create matrix of all 1s\n",
            "[[1 1 1 1]\n",
            " [1 1 1 1]\n",
            " [1 1 1 1]]\n",
            "\n",
            "full: fill matrix with given value\n",
            "[[0.5 0.5 0.5 0.5]\n",
            " [0.5 0.5 0.5 0.5]\n",
            " [0.5 0.5 0.5 0.5]]\n",
            "\n",
            "arange int: create array from range object\n",
            "[10 15 20 25]\n",
            "\n",
            "arange (float): special range with floating increments\n",
            "[1.  1.3 1.6 1.9 2.2 2.5 2.8]\n",
            "\n",
            "linspace: fill a range with fixed number of equally spaced values\n",
            "[0.  0.6 1.2 1.8 2.4 3. ]\n",
            "\n",
            "random: fill a matrix with random values\n",
            "[[0.06259686 0.5104424  0.10248071]\n",
            " [0.88355637 0.18179414 0.05447936]]\n",
            "\n",
            "empty: create empty matrix, values shown are garbage\n",
            "[[0.06259686 0.5104424  0.10248071]\n",
            " [0.88355637 0.18179414 0.05447936]]\n"
          ],
          "name": "stdout"
        }
      ]
    },
    {
      "metadata": {
        "id": "2bzZ1832f7uo",
        "colab_type": "text"
      },
      "cell_type": "markdown",
      "source": [
        "# Important attributes of a NumPy object\n",
        "\n",
        "**NDim**: Display the number of dimensions of the array. Note that you can have more than 2 dimensions also"
      ]
    },
    {
      "metadata": {
        "id": "jsrizjJhgCHQ",
        "colab_type": "code",
        "colab": {
          "base_uri": "https://localhost:8080/",
          "height": 153
        },
        "outputId": "79be057a-8aef-4a7c-c239-05d8ff447294"
      },
      "cell_type": "code",
      "source": [
        "a = np.zeros((2, 3, 4))\n",
        "print(a)\n",
        "\n",
        "print(\"number of dimensions = \", a.ndim)"
      ],
      "execution_count": 25,
      "outputs": [
        {
          "output_type": "stream",
          "text": [
            "[[[0. 0. 0. 0.]\n",
            "  [0. 0. 0. 0.]\n",
            "  [0. 0. 0. 0.]]\n",
            "\n",
            " [[0. 0. 0. 0.]\n",
            "  [0. 0. 0. 0.]\n",
            "  [0. 0. 0. 0.]]]\n",
            "number of dimensions =  3\n"
          ],
          "name": "stdout"
        }
      ]
    },
    {
      "metadata": {
        "id": "M3OnuK3jgugX",
        "colab_type": "text"
      },
      "cell_type": "markdown",
      "source": [
        "**Shape**: returns a tuple of integers indicating the size of the array"
      ]
    },
    {
      "metadata": {
        "id": "kxs0PU0TgxQA",
        "colab_type": "code",
        "colab": {
          "base_uri": "https://localhost:8080/",
          "height": 34
        },
        "outputId": "fa712bcd-197d-4f59-f26d-91f3b0c89364"
      },
      "cell_type": "code",
      "source": [
        "a.shape"
      ],
      "execution_count": 26,
      "outputs": [
        {
          "output_type": "execute_result",
          "data": {
            "text/plain": [
              "(2, 3, 4)"
            ]
          },
          "metadata": {
            "tags": []
          },
          "execution_count": 26
        }
      ]
    },
    {
      "metadata": {
        "id": "iBA3Dfvqg24H",
        "colab_type": "text"
      },
      "cell_type": "markdown",
      "source": [
        "**Size**: returns the total number of elements in the NumPy array"
      ]
    },
    {
      "metadata": {
        "id": "pZs0caMgg433",
        "colab_type": "code",
        "colab": {
          "base_uri": "https://localhost:8080/",
          "height": 34
        },
        "outputId": "4f6bf1d0-a250-48fc-8843-f26dc2075664"
      },
      "cell_type": "code",
      "source": [
        "a.size # returns 24 i.e. 2x3x4"
      ],
      "execution_count": 27,
      "outputs": [
        {
          "output_type": "execute_result",
          "data": {
            "text/plain": [
              "24"
            ]
          },
          "metadata": {
            "tags": []
          },
          "execution_count": 27
        }
      ]
    },
    {
      "metadata": {
        "id": "jkusQFj8hApP",
        "colab_type": "text"
      },
      "cell_type": "markdown",
      "source": [
        "**Dtype**: returns the type of elements in the array, i.e., int64, character"
      ]
    },
    {
      "metadata": {
        "id": "YYs64EeQhCZ3",
        "colab_type": "code",
        "colab": {
          "base_uri": "https://localhost:8080/",
          "height": 34
        },
        "outputId": "0a6b216d-7f96-4cfd-fa6b-5af2d5fb8813"
      },
      "cell_type": "code",
      "source": [
        "a.dtype"
      ],
      "execution_count": 28,
      "outputs": [
        {
          "output_type": "execute_result",
          "data": {
            "text/plain": [
              "dtype('float64')"
            ]
          },
          "metadata": {
            "tags": []
          },
          "execution_count": 28
        }
      ]
    },
    {
      "metadata": {
        "id": "A9xn3VcHhF4n",
        "colab_type": "text"
      },
      "cell_type": "markdown",
      "source": [
        "**Itemsize**: returns the size in bytes of each item"
      ]
    },
    {
      "metadata": {
        "id": "hZ59rVtzhHru",
        "colab_type": "code",
        "colab": {
          "base_uri": "https://localhost:8080/",
          "height": 34
        },
        "outputId": "fc6b1501-dee0-48d0-b462-c8375a668fef"
      },
      "cell_type": "code",
      "source": [
        "a.itemsize"
      ],
      "execution_count": 29,
      "outputs": [
        {
          "output_type": "execute_result",
          "data": {
            "text/plain": [
              "8"
            ]
          },
          "metadata": {
            "tags": []
          },
          "execution_count": 29
        }
      ]
    },
    {
      "metadata": {
        "id": "m8-U3WkVhKb3",
        "colab_type": "text"
      },
      "cell_type": "markdown",
      "source": [
        "**Reshape**: Reshapes the NumPy array, i.e. you can rearrange the elements in new set of dimensions. Below we changethe 2x3x4 array to 8x3 array"
      ]
    },
    {
      "metadata": {
        "id": "-goFKsH7hNZ3",
        "colab_type": "code",
        "colab": {
          "base_uri": "https://localhost:8080/",
          "height": 153
        },
        "outputId": "062c54ad-5b00-4e42-c8ba-1706d854f6b9"
      },
      "cell_type": "code",
      "source": [
        "a.reshape(8,3)"
      ],
      "execution_count": 30,
      "outputs": [
        {
          "output_type": "execute_result",
          "data": {
            "text/plain": [
              "array([[0., 0., 0.],\n",
              "       [0., 0., 0.],\n",
              "       [0., 0., 0.],\n",
              "       [0., 0., 0.],\n",
              "       [0., 0., 0.],\n",
              "       [0., 0., 0.],\n",
              "       [0., 0., 0.],\n",
              "       [0., 0., 0.]])"
            ]
          },
          "metadata": {
            "tags": []
          },
          "execution_count": 30
        }
      ]
    },
    {
      "metadata": {
        "id": "lJ9PF2Jyl69t",
        "colab_type": "text"
      },
      "cell_type": "markdown",
      "source": [
        "# Special Features of NumPy Array\n",
        "\n",
        "Some ways in which NumPy arrays are different from normal Python arrays are:\n",
        "\n",
        "1. If you assign a single value to a ndarray slice, it is copied across the whole slice\n",
        "2. ndarray slices are actually views on the same data buffer. If you modify it, it is going to modify the original ndarray as well.\n",
        "3. Special ways to slice, e.g. using boolean indexing\n",
        "4. Broadcasting"
      ]
    },
    {
      "metadata": {
        "id": "6bbPEeDBmgWo",
        "colab_type": "code",
        "colab": {
          "base_uri": "https://localhost:8080/",
          "height": 34
        },
        "outputId": "658585e8-70b0-4ae6-c137-6a18b72f4806"
      },
      "cell_type": "code",
      "source": [
        "a = np.array([1, 2, 5, 7, 8])\n",
        "a[1:3] = -1 # not possible in Python list\n",
        "print(a)"
      ],
      "execution_count": 31,
      "outputs": [
        {
          "output_type": "stream",
          "text": [
            "[ 1 -1 -1  7  8]\n"
          ],
          "name": "stdout"
        }
      ]
    },
    {
      "metadata": {
        "id": "zunKItqImtHW",
        "colab_type": "code",
        "colab": {
          "base_uri": "https://localhost:8080/",
          "height": 34
        },
        "outputId": "b7af09f7-be45-442e-d708-a69d9c35280c"
      },
      "cell_type": "code",
      "source": [
        "a = np.array([1, 2, 5, 7, 8])\n",
        "a_slice = a[1:5] # Python list creates a copy, but NumPy refers to same array\n",
        "a_slice[1] = 1000\n",
        "print(a) # Original array is modified"
      ],
      "execution_count": 32,
      "outputs": [
        {
          "output_type": "stream",
          "text": [
            "[   1    2 1000    7    8]\n"
          ],
          "name": "stdout"
        }
      ]
    },
    {
      "metadata": {
        "id": "UbfEaLGInR72",
        "colab_type": "text"
      },
      "cell_type": "markdown",
      "source": [
        "The way multidimensional arrays are accessed using NumPy is different from how they are accessed in normal python arrays. The generic format in NumPy multi-dimensional arrays is:\n",
        "\n",
        "`Array[row_start_index:row_end_index, column_start_index: column_end_index]`\n",
        "\n",
        "If you only specify `:` then it considers entire row or column\n",
        "\n",
        "NumPy arrays can also be accessed using boolean indexing. For example, below code shows how to only include first and third row and all columns"
      ]
    },
    {
      "metadata": {
        "id": "AhZD67X6m_cf",
        "colab_type": "code",
        "colab": {
          "base_uri": "https://localhost:8080/",
          "height": 102
        },
        "outputId": "2b7a365d-3e69-4c18-ffd2-0d5c9f29b81d"
      },
      "cell_type": "code",
      "source": [
        "a = np.arange(12).reshape(3, 4)\n",
        "print(a)\n",
        "rows_on = np.array([True, False, True])\n",
        "print(a[rows_on, :])\n"
      ],
      "execution_count": 33,
      "outputs": [
        {
          "output_type": "stream",
          "text": [
            "[[ 0  1  2  3]\n",
            " [ 4  5  6  7]\n",
            " [ 8  9 10 11]]\n",
            "[[ 0  1  2  3]\n",
            " [ 8  9 10 11]]\n"
          ],
          "name": "stdout"
        }
      ]
    },
    {
      "metadata": {
        "id": "wQU6E-oLnobw",
        "colab_type": "text"
      },
      "cell_type": "markdown",
      "source": [
        "NumPy arrays are capable of performing all basic operations such as addition, subtraction, element-wise product, matrix dot product, element-wise division, element-wise modulo, element-wise exponents and conditional operations. e.g. "
      ]
    },
    {
      "metadata": {
        "id": "EEZMazUintLX",
        "colab_type": "code",
        "colab": {
          "base_uri": "https://localhost:8080/",
          "height": 68
        },
        "outputId": "ae8f8ca3-c22e-4d5f-a8fe-be385d6997c2"
      },
      "cell_type": "code",
      "source": [
        "a < 10"
      ],
      "execution_count": 34,
      "outputs": [
        {
          "output_type": "execute_result",
          "data": {
            "text/plain": [
              "array([[ True,  True,  True,  True],\n",
              "       [ True,  True,  True,  True],\n",
              "       [ True,  True, False, False]])"
            ]
          },
          "metadata": {
            "tags": []
          },
          "execution_count": 34
        }
      ]
    },
    {
      "metadata": {
        "id": "xbitzW9GnyDP",
        "colab_type": "code",
        "colab": {
          "base_uri": "https://localhost:8080/",
          "height": 68
        },
        "outputId": "5fad692d-5c58-4a33-b949-4227d4c47d54"
      },
      "cell_type": "code",
      "source": [
        "a + 5"
      ],
      "execution_count": 35,
      "outputs": [
        {
          "output_type": "execute_result",
          "data": {
            "text/plain": [
              "array([[ 5,  6,  7,  8],\n",
              "       [ 9, 10, 11, 12],\n",
              "       [13, 14, 15, 16]])"
            ]
          },
          "metadata": {
            "tags": []
          },
          "execution_count": 35
        }
      ]
    },
    {
      "metadata": {
        "id": "oFNmLy8qn0_u",
        "colab_type": "text"
      },
      "cell_type": "markdown",
      "source": [
        "An important feature with NumPy arrays is broadcasting. In general, when NumPy expects arrays of the same shape but finds that this is not the case, it applies the so-called broadcasting rules.\n",
        "\n",
        "![alt text](https://cloudxlab.com/blog/wp-content/uploads/2017/12/Screen-Shot-2017-12-13-at-5.57.21-PM.png)"
      ]
    },
    {
      "metadata": {
        "id": "BTqZJanjoPkg",
        "colab_type": "text"
      },
      "cell_type": "markdown",
      "source": [
        "NumPy provides basic mathematical and statistical functions like mean, min, max, sum, prod, std, var, summation across different axes, transposing of a matrix, etc."
      ]
    },
    {
      "metadata": {
        "id": "AMjWlyhyoS-J",
        "colab_type": "code",
        "colab": {
          "base_uri": "https://localhost:8080/",
          "height": 34
        },
        "outputId": "416044f6-4026-4d9c-9cd3-65f3d33d9925"
      },
      "cell_type": "code",
      "source": [
        "a.mean() #mean of all elements"
      ],
      "execution_count": 36,
      "outputs": [
        {
          "output_type": "execute_result",
          "data": {
            "text/plain": [
              "5.5"
            ]
          },
          "metadata": {
            "tags": []
          },
          "execution_count": 36
        }
      ]
    },
    {
      "metadata": {
        "id": "uIH56UlgoVU-",
        "colab_type": "code",
        "colab": {
          "base_uri": "https://localhost:8080/",
          "height": 34
        },
        "outputId": "1ebf9502-4cec-4e98-865d-e5752a2682c8"
      },
      "cell_type": "code",
      "source": [
        "a[0].mean() #mean of all elements in row 1"
      ],
      "execution_count": 38,
      "outputs": [
        {
          "output_type": "execute_result",
          "data": {
            "text/plain": [
              "1.5"
            ]
          },
          "metadata": {
            "tags": []
          },
          "execution_count": 38
        }
      ]
    },
    {
      "metadata": {
        "id": "7_BURhVaoeUm",
        "colab_type": "code",
        "colab": {
          "base_uri": "https://localhost:8080/",
          "height": 34
        },
        "outputId": "e5be97d1-43c0-4b72-98dd-03cce6f97b85"
      },
      "cell_type": "code",
      "source": [
        "a[:,0].mean() #mean of all elements in column 1"
      ],
      "execution_count": 41,
      "outputs": [
        {
          "output_type": "execute_result",
          "data": {
            "text/plain": [
              "4.0"
            ]
          },
          "metadata": {
            "tags": []
          },
          "execution_count": 41
        }
      ]
    },
    {
      "metadata": {
        "id": "D8okBjKoqvc_",
        "colab_type": "code",
        "colab": {
          "base_uri": "https://localhost:8080/",
          "height": 85
        },
        "outputId": "378af9a2-4244-4968-c70b-ae810045efa2"
      },
      "cell_type": "code",
      "source": [
        "a.transpose()"
      ],
      "execution_count": 42,
      "outputs": [
        {
          "output_type": "execute_result",
          "data": {
            "text/plain": [
              "array([[ 0,  4,  8],\n",
              "       [ 1,  5,  9],\n",
              "       [ 2,  6, 10],\n",
              "       [ 3,  7, 11]])"
            ]
          },
          "metadata": {
            "tags": []
          },
          "execution_count": 42
        }
      ]
    },
    {
      "metadata": {
        "id": "qLHQkX1qq3HH",
        "colab_type": "text"
      },
      "cell_type": "markdown",
      "source": [
        "A particular NumPy feature of interest is solving a system of linear equations. NumPy has a function to solve linear equations. For example,\n",
        "\n",
        "\n",
        "\n",
        "```\n",
        "2x + 6y = 6\n",
        "5x + 3y = -9\n",
        "```\n",
        "\n",
        "can be solved in NumPy using its [linear algebr](https://docs.scipy.org/doc/numpy-1.13.0/reference/routines.linalg.html)a extension. \n"
      ]
    },
    {
      "metadata": {
        "id": "bi7JfkBrq98-",
        "colab_type": "code",
        "colab": {
          "base_uri": "https://localhost:8080/",
          "height": 34
        },
        "outputId": "2a152612-a4c6-4083-da56-df0c924f9efc"
      },
      "cell_type": "code",
      "source": [
        "features  = np.array([[2, 6], [5, 3]])\n",
        "labels = np.array([6, -9])\n",
        "solution = np.linalg.solve(features, labels)\n",
        "solution"
      ],
      "execution_count": 45,
      "outputs": [
        {
          "output_type": "execute_result",
          "data": {
            "text/plain": [
              "array([-3.,  2.])"
            ]
          },
          "metadata": {
            "tags": []
          },
          "execution_count": 45
        }
      ]
    },
    {
      "metadata": {
        "id": "IXDyHxA11ry3",
        "colab_type": "text"
      },
      "cell_type": "markdown",
      "source": [
        "Try some functions on your own below!"
      ]
    },
    {
      "metadata": {
        "id": "ttZGQBGF1ylr",
        "colab_type": "code",
        "colab": {}
      },
      "cell_type": "code",
      "source": [
        ""
      ],
      "execution_count": 0,
      "outputs": []
    },
    {
      "metadata": {
        "id": "udlL24ocrbeJ",
        "colab_type": "text"
      },
      "cell_type": "markdown",
      "source": [
        "# What is Pandas and why to use it?\n",
        "\n",
        "NumPy provides support for multi-demsional arrays. Pandas similarly, provides high-performance, easy to use structure called Dataframe and corresponding data analysis tools. A Pandas Dataframe stores each column as a Numpy Array called a series. With 2D table (excel like) structure, Pandas provides additional functionalities like creating pivot tables, computing columns based on other columns and plotting graphs.\n",
        "\n",
        "Some commonly used data structures in pandas are:\n",
        "\n",
        "1. **Series objects**: 1D array, similar to a column in a spreadsheet\n",
        "2. **DataFrame objects**: 2D table, similar to a spreadsheet\n",
        "3. **Panel objects**: Dictionary of DataFrames, similar to sheet in MS Excel\n",
        "\n",
        "Below is how you import pandas in your program. Everyone uses alias pd, so can we!"
      ]
    },
    {
      "metadata": {
        "id": "P2zVUUwq2Fbo",
        "colab_type": "code",
        "colab": {}
      },
      "cell_type": "code",
      "source": [
        "import pandas as pd"
      ],
      "execution_count": 0,
      "outputs": []
    },
    {
      "metadata": {
        "id": "HXdDGaCB2Rxm",
        "colab_type": "text"
      },
      "cell_type": "markdown",
      "source": [
        "**Pandas Series** object is created using *pd.Series* function. Each row is provided with an index and by defaults is assigned numerical values starting from 0. Like NumPy, Pandas also provide the basic mathematical functionalities like addition, subtraction and conditional operations and broadcasting.\n",
        "\n",
        "**Pandas dataframe** object represents a spreadsheet with cell values, column names, and row index labels. *Dataframe can be visualized as dictionaries of Series*. Dataframe rows and columns are simple and intuitive to access. Pandas also provide SQL-like functionality to filter, sort rows based on conditions. For example,\n",
        "\n"
      ]
    },
    {
      "metadata": {
        "id": "zMe1CNO_2nEW",
        "colab_type": "code",
        "colab": {
          "base_uri": "https://localhost:8080/",
          "height": 142
        },
        "outputId": "eb12cefe-a123-4bfe-82f1-5c163876ec7b"
      },
      "cell_type": "code",
      "source": [
        "people_dict = {\n",
        "  \"weight\": pd.Series([68, 83, 112],index=[\"alice\", \"bob\", \"charles\"]),\n",
        "  \"birthyear\": pd.Series([1984, 1985, 1992], index=[\"bob\", \"alice\", \"charles\"], name=\"year\"),\n",
        "  \"children\": pd.Series([0, 3], index=[\"charles\", \"bob\"]),\n",
        "  \"hobby\": pd.Series([\"Biking\", \"Dancing\"], index=[\"alice\", \"bob\"])\n",
        "}\n",
        "\n",
        "people = pd.DataFrame(people_dict)\n",
        "\n",
        "people"
      ],
      "execution_count": 48,
      "outputs": [
        {
          "output_type": "execute_result",
          "data": {
            "text/html": [
              "<div>\n",
              "<style scoped>\n",
              "    .dataframe tbody tr th:only-of-type {\n",
              "        vertical-align: middle;\n",
              "    }\n",
              "\n",
              "    .dataframe tbody tr th {\n",
              "        vertical-align: top;\n",
              "    }\n",
              "\n",
              "    .dataframe thead th {\n",
              "        text-align: right;\n",
              "    }\n",
              "</style>\n",
              "<table border=\"1\" class=\"dataframe\">\n",
              "  <thead>\n",
              "    <tr style=\"text-align: right;\">\n",
              "      <th></th>\n",
              "      <th>birthyear</th>\n",
              "      <th>children</th>\n",
              "      <th>hobby</th>\n",
              "      <th>weight</th>\n",
              "    </tr>\n",
              "  </thead>\n",
              "  <tbody>\n",
              "    <tr>\n",
              "      <th>alice</th>\n",
              "      <td>1985</td>\n",
              "      <td>NaN</td>\n",
              "      <td>Biking</td>\n",
              "      <td>68</td>\n",
              "    </tr>\n",
              "    <tr>\n",
              "      <th>bob</th>\n",
              "      <td>1984</td>\n",
              "      <td>3.0</td>\n",
              "      <td>Dancing</td>\n",
              "      <td>83</td>\n",
              "    </tr>\n",
              "    <tr>\n",
              "      <th>charles</th>\n",
              "      <td>1992</td>\n",
              "      <td>0.0</td>\n",
              "      <td>NaN</td>\n",
              "      <td>112</td>\n",
              "    </tr>\n",
              "  </tbody>\n",
              "</table>\n",
              "</div>"
            ],
            "text/plain": [
              "         birthyear  children    hobby  weight\n",
              "alice         1985       NaN   Biking      68\n",
              "bob           1984       3.0  Dancing      83\n",
              "charles       1992       0.0      NaN     112"
            ]
          },
          "metadata": {
            "tags": []
          },
          "execution_count": 48
        }
      ]
    },
    {
      "metadata": {
        "id": "kR9FH4t-3Fj2",
        "colab_type": "text"
      },
      "cell_type": "markdown",
      "source": [
        "Each key of dictionary acts like columns for a dataframe. And in each series we have indexed elements. Note how index ensures that proper values are assigned in each row. For example for birthyear, the index is differently ordered that for weight. For children, one lement is missing. Notice how the output dataframe is finally arranged.\n",
        "\n",
        "We can now filter the rows, say:"
      ]
    },
    {
      "metadata": {
        "id": "ztg_Ma2j3iON",
        "colab_type": "code",
        "colab": {
          "base_uri": "https://localhost:8080/",
          "height": 111
        },
        "outputId": "16a74079-1c22-4da5-83dc-eba303b7af85"
      },
      "cell_type": "code",
      "source": [
        "people[people[\"birthyear\"] < 1990]"
      ],
      "execution_count": 49,
      "outputs": [
        {
          "output_type": "execute_result",
          "data": {
            "text/html": [
              "<div>\n",
              "<style scoped>\n",
              "    .dataframe tbody tr th:only-of-type {\n",
              "        vertical-align: middle;\n",
              "    }\n",
              "\n",
              "    .dataframe tbody tr th {\n",
              "        vertical-align: top;\n",
              "    }\n",
              "\n",
              "    .dataframe thead th {\n",
              "        text-align: right;\n",
              "    }\n",
              "</style>\n",
              "<table border=\"1\" class=\"dataframe\">\n",
              "  <thead>\n",
              "    <tr style=\"text-align: right;\">\n",
              "      <th></th>\n",
              "      <th>birthyear</th>\n",
              "      <th>children</th>\n",
              "      <th>hobby</th>\n",
              "      <th>weight</th>\n",
              "    </tr>\n",
              "  </thead>\n",
              "  <tbody>\n",
              "    <tr>\n",
              "      <th>alice</th>\n",
              "      <td>1985</td>\n",
              "      <td>NaN</td>\n",
              "      <td>Biking</td>\n",
              "      <td>68</td>\n",
              "    </tr>\n",
              "    <tr>\n",
              "      <th>bob</th>\n",
              "      <td>1984</td>\n",
              "      <td>3.0</td>\n",
              "      <td>Dancing</td>\n",
              "      <td>83</td>\n",
              "    </tr>\n",
              "  </tbody>\n",
              "</table>\n",
              "</div>"
            ],
            "text/plain": [
              "       birthyear  children    hobby  weight\n",
              "alice       1985       NaN   Biking      68\n",
              "bob         1984       3.0  Dancing      83"
            ]
          },
          "metadata": {
            "tags": []
          },
          "execution_count": 49
        }
      ]
    },
    {
      "metadata": {
        "id": "GfoLajxX3mMe",
        "colab_type": "text"
      },
      "cell_type": "markdown",
      "source": [
        "New columns and rows can be easily added to the dataframe. In addition to the basic functionalities, pandas dataframe can be sorted by a particular column.\n",
        "\n",
        "Dataframes can also be easily exported and imported from CSV, Excel, JSON, HTML and SQL database. Some other essential methods that are present in dataframes are:\n",
        "\n",
        "1. **head()**: returns the top 5 rows in the dataframe object\n",
        "2. **tail()**: returns the bottom 5 rows in the dataframe\n",
        "3. **info()**: prints the summary of the dataframe\n",
        "4. **describe()**: gives a nice overview of the main aggregated values over each column\n",
        "\n",
        "# Simple Data Wrangling using Pandas\n",
        "\n",
        "Let us see an example below. We shall use the Kaggle dataset of [nutrition data on 80 cereals](https://www.kaggle.com/crawford/80-cereals). Please download the [cereal.csv](https://www.kaggle.com/crawford/80-cereals#cereal.csv) file in your file system. Then upload the file below if using colab, else place the file in same path as this file in your file system. If you want more details on file system etc. please [read the full article](https://www.datacamp.com/community/tutorials/pandas-read-csv) from where we have pulled this tutorial.\n"
      ]
    },
    {
      "metadata": {
        "id": "NoCKq9ii6ISQ",
        "colab_type": "code",
        "colab": {
          "resources": {
            "http://localhost:8080/nbextensions/google.colab/files.js": {
              "data": "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",
              "ok": true,
              "headers": [
                [
                  "content-type",
                  "application/javascript"
                ]
              ],
              "status": 200,
              "status_text": ""
            }
          },
          "base_uri": "https://localhost:8080/",
          "height": 72
        },
        "outputId": "d44795f6-c4ae-499c-9fb4-e7c4a587baa3"
      },
      "cell_type": "code",
      "source": [
        "from google.colab import files\n",
        "uploaded = files.upload()"
      ],
      "execution_count": 53,
      "outputs": [
        {
          "output_type": "display_data",
          "data": {
            "text/html": [
              "\n",
              "     <input type=\"file\" id=\"files-71caba1a-e260-4902-b1d2-90147e651740\" name=\"files[]\" multiple disabled />\n",
              "     <output id=\"result-71caba1a-e260-4902-b1d2-90147e651740\">\n",
              "      Upload widget is only available when the cell has been executed in the\n",
              "      current browser session. Please rerun this cell to enable.\n",
              "      </output>\n",
              "      <script src=\"/nbextensions/google.colab/files.js\"></script> "
            ],
            "text/plain": [
              "<IPython.core.display.HTML object>"
            ]
          },
          "metadata": {
            "tags": []
          }
        },
        {
          "output_type": "stream",
          "text": [
            "Saving cereal.csv to cereal.csv\n"
          ],
          "name": "stdout"
        }
      ]
    },
    {
      "metadata": {
        "id": "BwUqrR1i4YhB",
        "colab_type": "code",
        "colab": {}
      },
      "cell_type": "code",
      "source": [
        "df = pd.read_csv(\"cereal.csv\")"
      ],
      "execution_count": 0,
      "outputs": []
    },
    {
      "metadata": {
        "id": "UJWoyWRj7PpO",
        "colab_type": "text"
      },
      "cell_type": "markdown",
      "source": [
        "Let's take a closer look at this data using dataframe's **head** function. Notice that the read_csv() function correctly infers that the first observation contains the headers for the dataset. Not only that, read_csv() can infer the data types for each column of your dataset as well."
      ]
    },
    {
      "metadata": {
        "id": "Y46319yn7W2G",
        "colab_type": "code",
        "colab": {
          "base_uri": "https://localhost:8080/",
          "height": 204
        },
        "outputId": "84d03170-b0b6-4ab9-a344-ad3237e0e922"
      },
      "cell_type": "code",
      "source": [
        "df.head(5)"
      ],
      "execution_count": 56,
      "outputs": [
        {
          "output_type": "execute_result",
          "data": {
            "text/html": [
              "<div>\n",
              "<style scoped>\n",
              "    .dataframe tbody tr th:only-of-type {\n",
              "        vertical-align: middle;\n",
              "    }\n",
              "\n",
              "    .dataframe tbody tr th {\n",
              "        vertical-align: top;\n",
              "    }\n",
              "\n",
              "    .dataframe thead th {\n",
              "        text-align: right;\n",
              "    }\n",
              "</style>\n",
              "<table border=\"1\" class=\"dataframe\">\n",
              "  <thead>\n",
              "    <tr style=\"text-align: right;\">\n",
              "      <th></th>\n",
              "      <th>name</th>\n",
              "      <th>mfr</th>\n",
              "      <th>type</th>\n",
              "      <th>calories</th>\n",
              "      <th>protein</th>\n",
              "      <th>fat</th>\n",
              "      <th>sodium</th>\n",
              "      <th>fiber</th>\n",
              "      <th>carbo</th>\n",
              "      <th>sugars</th>\n",
              "      <th>potass</th>\n",
              "      <th>vitamins</th>\n",
              "      <th>shelf</th>\n",
              "      <th>weight</th>\n",
              "      <th>cups</th>\n",
              "      <th>rating</th>\n",
              "    </tr>\n",
              "  </thead>\n",
              "  <tbody>\n",
              "    <tr>\n",
              "      <th>0</th>\n",
              "      <td>100% Bran</td>\n",
              "      <td>N</td>\n",
              "      <td>C</td>\n",
              "      <td>70</td>\n",
              "      <td>4</td>\n",
              "      <td>1</td>\n",
              "      <td>130</td>\n",
              "      <td>10.0</td>\n",
              "      <td>5.0</td>\n",
              "      <td>6</td>\n",
              "      <td>280</td>\n",
              "      <td>25</td>\n",
              "      <td>3</td>\n",
              "      <td>1.0</td>\n",
              "      <td>0.33</td>\n",
              "      <td>68.402973</td>\n",
              "    </tr>\n",
              "    <tr>\n",
              "      <th>1</th>\n",
              "      <td>100% Natural Bran</td>\n",
              "      <td>Q</td>\n",
              "      <td>C</td>\n",
              "      <td>120</td>\n",
              "      <td>3</td>\n",
              "      <td>5</td>\n",
              "      <td>15</td>\n",
              "      <td>2.0</td>\n",
              "      <td>8.0</td>\n",
              "      <td>8</td>\n",
              "      <td>135</td>\n",
              "      <td>0</td>\n",
              "      <td>3</td>\n",
              "      <td>1.0</td>\n",
              "      <td>1.00</td>\n",
              "      <td>33.983679</td>\n",
              "    </tr>\n",
              "    <tr>\n",
              "      <th>2</th>\n",
              "      <td>All-Bran</td>\n",
              "      <td>K</td>\n",
              "      <td>C</td>\n",
              "      <td>70</td>\n",
              "      <td>4</td>\n",
              "      <td>1</td>\n",
              "      <td>260</td>\n",
              "      <td>9.0</td>\n",
              "      <td>7.0</td>\n",
              "      <td>5</td>\n",
              "      <td>320</td>\n",
              "      <td>25</td>\n",
              "      <td>3</td>\n",
              "      <td>1.0</td>\n",
              "      <td>0.33</td>\n",
              "      <td>59.425505</td>\n",
              "    </tr>\n",
              "    <tr>\n",
              "      <th>3</th>\n",
              "      <td>All-Bran with Extra Fiber</td>\n",
              "      <td>K</td>\n",
              "      <td>C</td>\n",
              "      <td>50</td>\n",
              "      <td>4</td>\n",
              "      <td>0</td>\n",
              "      <td>140</td>\n",
              "      <td>14.0</td>\n",
              "      <td>8.0</td>\n",
              "      <td>0</td>\n",
              "      <td>330</td>\n",
              "      <td>25</td>\n",
              "      <td>3</td>\n",
              "      <td>1.0</td>\n",
              "      <td>0.50</td>\n",
              "      <td>93.704912</td>\n",
              "    </tr>\n",
              "    <tr>\n",
              "      <th>4</th>\n",
              "      <td>Almond Delight</td>\n",
              "      <td>R</td>\n",
              "      <td>C</td>\n",
              "      <td>110</td>\n",
              "      <td>2</td>\n",
              "      <td>2</td>\n",
              "      <td>200</td>\n",
              "      <td>1.0</td>\n",
              "      <td>14.0</td>\n",
              "      <td>8</td>\n",
              "      <td>-1</td>\n",
              "      <td>25</td>\n",
              "      <td>3</td>\n",
              "      <td>1.0</td>\n",
              "      <td>0.75</td>\n",
              "      <td>34.384843</td>\n",
              "    </tr>\n",
              "  </tbody>\n",
              "</table>\n",
              "</div>"
            ],
            "text/plain": [
              "                        name mfr type  calories  protein  fat  sodium  fiber  \\\n",
              "0                  100% Bran   N    C        70        4    1     130   10.0   \n",
              "1          100% Natural Bran   Q    C       120        3    5      15    2.0   \n",
              "2                   All-Bran   K    C        70        4    1     260    9.0   \n",
              "3  All-Bran with Extra Fiber   K    C        50        4    0     140   14.0   \n",
              "4             Almond Delight   R    C       110        2    2     200    1.0   \n",
              "\n",
              "   carbo  sugars  potass  vitamins  shelf  weight  cups     rating  \n",
              "0    5.0       6     280        25      3     1.0  0.33  68.402973  \n",
              "1    8.0       8     135         0      3     1.0  1.00  33.983679  \n",
              "2    7.0       5     320        25      3     1.0  0.33  59.425505  \n",
              "3    8.0       0     330        25      3     1.0  0.50  93.704912  \n",
              "4   14.0       8      -1        25      3     1.0  0.75  34.384843  "
            ]
          },
          "metadata": {
            "tags": []
          },
          "execution_count": 56
        }
      ]
    },
    {
      "metadata": {
        "id": "ICKxygAv76-2",
        "colab_type": "code",
        "colab": {
          "base_uri": "https://localhost:8080/",
          "height": 34
        },
        "outputId": "69235d15-ee46-43cc-ab65-a5fd2d9a488b"
      },
      "cell_type": "code",
      "source": [
        "df['calories'].dtypes"
      ],
      "execution_count": 57,
      "outputs": [
        {
          "output_type": "execute_result",
          "data": {
            "text/plain": [
              "dtype('int64')"
            ]
          },
          "metadata": {
            "tags": []
          },
          "execution_count": 57
        }
      ]
    },
    {
      "metadata": {
        "id": "PGzYCjrA8A5B",
        "colab_type": "code",
        "colab": {
          "base_uri": "https://localhost:8080/",
          "height": 34
        },
        "outputId": "dd298ba6-7eec-467b-b754-85299e03a224"
      },
      "cell_type": "code",
      "source": [
        "df['fiber'].dtypes"
      ],
      "execution_count": 58,
      "outputs": [
        {
          "output_type": "execute_result",
          "data": {
            "text/plain": [
              "dtype('float64')"
            ]
          },
          "metadata": {
            "tags": []
          },
          "execution_count": 58
        }
      ]
    },
    {
      "metadata": {
        "id": "UlKF9e9x_c_u",
        "colab_type": "text"
      },
      "cell_type": "markdown",
      "source": [
        "Next let us see tail() function which similar to head shows n rows from bottom, default is 5, but you can also pass a number to see more."
      ]
    },
    {
      "metadata": {
        "id": "Mhjl6Ds2_hdd",
        "colab_type": "code",
        "colab": {
          "base_uri": "https://localhost:8080/",
          "height": 204
        },
        "outputId": "fdc93296-b4fd-4b12-eb46-f223dc6b92bf"
      },
      "cell_type": "code",
      "source": [
        "df.tail()"
      ],
      "execution_count": 63,
      "outputs": [
        {
          "output_type": "execute_result",
          "data": {
            "text/html": [
              "<div>\n",
              "<style scoped>\n",
              "    .dataframe tbody tr th:only-of-type {\n",
              "        vertical-align: middle;\n",
              "    }\n",
              "\n",
              "    .dataframe tbody tr th {\n",
              "        vertical-align: top;\n",
              "    }\n",
              "\n",
              "    .dataframe thead th {\n",
              "        text-align: right;\n",
              "    }\n",
              "</style>\n",
              "<table border=\"1\" class=\"dataframe\">\n",
              "  <thead>\n",
              "    <tr style=\"text-align: right;\">\n",
              "      <th></th>\n",
              "      <th>name</th>\n",
              "      <th>mfr</th>\n",
              "      <th>type</th>\n",
              "      <th>calories</th>\n",
              "      <th>protein</th>\n",
              "      <th>fat</th>\n",
              "      <th>sodium</th>\n",
              "      <th>fiber</th>\n",
              "      <th>carbo</th>\n",
              "      <th>sugars</th>\n",
              "      <th>potass</th>\n",
              "      <th>vitamins</th>\n",
              "      <th>shelf</th>\n",
              "      <th>weight</th>\n",
              "      <th>cups</th>\n",
              "      <th>rating</th>\n",
              "    </tr>\n",
              "  </thead>\n",
              "  <tbody>\n",
              "    <tr>\n",
              "      <th>72</th>\n",
              "      <td>Triples</td>\n",
              "      <td>G</td>\n",
              "      <td>C</td>\n",
              "      <td>110</td>\n",
              "      <td>2</td>\n",
              "      <td>1</td>\n",
              "      <td>250</td>\n",
              "      <td>0.0</td>\n",
              "      <td>21.0</td>\n",
              "      <td>3</td>\n",
              "      <td>60</td>\n",
              "      <td>25</td>\n",
              "      <td>3</td>\n",
              "      <td>1.0</td>\n",
              "      <td>0.75</td>\n",
              "      <td>39.106174</td>\n",
              "    </tr>\n",
              "    <tr>\n",
              "      <th>73</th>\n",
              "      <td>Trix</td>\n",
              "      <td>G</td>\n",
              "      <td>C</td>\n",
              "      <td>110</td>\n",
              "      <td>1</td>\n",
              "      <td>1</td>\n",
              "      <td>140</td>\n",
              "      <td>0.0</td>\n",
              "      <td>13.0</td>\n",
              "      <td>12</td>\n",
              "      <td>25</td>\n",
              "      <td>25</td>\n",
              "      <td>2</td>\n",
              "      <td>1.0</td>\n",
              "      <td>1.00</td>\n",
              "      <td>27.753301</td>\n",
              "    </tr>\n",
              "    <tr>\n",
              "      <th>74</th>\n",
              "      <td>Wheat Chex</td>\n",
              "      <td>R</td>\n",
              "      <td>C</td>\n",
              "      <td>100</td>\n",
              "      <td>3</td>\n",
              "      <td>1</td>\n",
              "      <td>230</td>\n",
              "      <td>3.0</td>\n",
              "      <td>17.0</td>\n",
              "      <td>3</td>\n",
              "      <td>115</td>\n",
              "      <td>25</td>\n",
              "      <td>1</td>\n",
              "      <td>1.0</td>\n",
              "      <td>0.67</td>\n",
              "      <td>49.787445</td>\n",
              "    </tr>\n",
              "    <tr>\n",
              "      <th>75</th>\n",
              "      <td>Wheaties</td>\n",
              "      <td>G</td>\n",
              "      <td>C</td>\n",
              "      <td>100</td>\n",
              "      <td>3</td>\n",
              "      <td>1</td>\n",
              "      <td>200</td>\n",
              "      <td>3.0</td>\n",
              "      <td>17.0</td>\n",
              "      <td>3</td>\n",
              "      <td>110</td>\n",
              "      <td>25</td>\n",
              "      <td>1</td>\n",
              "      <td>1.0</td>\n",
              "      <td>1.00</td>\n",
              "      <td>51.592193</td>\n",
              "    </tr>\n",
              "    <tr>\n",
              "      <th>76</th>\n",
              "      <td>Wheaties Honey Gold</td>\n",
              "      <td>G</td>\n",
              "      <td>C</td>\n",
              "      <td>110</td>\n",
              "      <td>2</td>\n",
              "      <td>1</td>\n",
              "      <td>200</td>\n",
              "      <td>1.0</td>\n",
              "      <td>16.0</td>\n",
              "      <td>8</td>\n",
              "      <td>60</td>\n",
              "      <td>25</td>\n",
              "      <td>1</td>\n",
              "      <td>1.0</td>\n",
              "      <td>0.75</td>\n",
              "      <td>36.187559</td>\n",
              "    </tr>\n",
              "  </tbody>\n",
              "</table>\n",
              "</div>"
            ],
            "text/plain": [
              "                   name mfr type  calories  protein  fat  sodium  fiber  \\\n",
              "72              Triples   G    C       110        2    1     250    0.0   \n",
              "73                 Trix   G    C       110        1    1     140    0.0   \n",
              "74           Wheat Chex   R    C       100        3    1     230    3.0   \n",
              "75             Wheaties   G    C       100        3    1     200    3.0   \n",
              "76  Wheaties Honey Gold   G    C       110        2    1     200    1.0   \n",
              "\n",
              "    carbo  sugars  potass  vitamins  shelf  weight  cups     rating  \n",
              "72   21.0       3      60        25      3     1.0  0.75  39.106174  \n",
              "73   13.0      12      25        25      2     1.0  1.00  27.753301  \n",
              "74   17.0       3     115        25      1     1.0  0.67  49.787445  \n",
              "75   17.0       3     110        25      1     1.0  1.00  51.592193  \n",
              "76   16.0       8      60        25      1     1.0  0.75  36.187559  "
            ]
          },
          "metadata": {
            "tags": []
          },
          "execution_count": 63
        }
      ]
    },
    {
      "metadata": {
        "id": "5xjQahRG_s3Z",
        "colab_type": "text"
      },
      "cell_type": "markdown",
      "source": [
        "Next, let's take a look at the info() method that descibed the columns in the data set, how many entries in each, how many are not null and what is the data type"
      ]
    },
    {
      "metadata": {
        "id": "jOhvr51-_vtm",
        "colab_type": "code",
        "colab": {
          "base_uri": "https://localhost:8080/",
          "height": 374
        },
        "outputId": "c1eb4146-bae4-4276-bef4-e0e8554683f1"
      },
      "cell_type": "code",
      "source": [
        "df.info()"
      ],
      "execution_count": 64,
      "outputs": [
        {
          "output_type": "stream",
          "text": [
            "<class 'pandas.core.frame.DataFrame'>\n",
            "RangeIndex: 77 entries, 0 to 76\n",
            "Data columns (total 16 columns):\n",
            "name        77 non-null object\n",
            "mfr         77 non-null object\n",
            "type        77 non-null object\n",
            "calories    77 non-null int64\n",
            "protein     77 non-null int64\n",
            "fat         77 non-null int64\n",
            "sodium      77 non-null int64\n",
            "fiber       77 non-null float64\n",
            "carbo       77 non-null float64\n",
            "sugars      77 non-null int64\n",
            "potass      77 non-null int64\n",
            "vitamins    77 non-null int64\n",
            "shelf       77 non-null int64\n",
            "weight      77 non-null float64\n",
            "cups        77 non-null float64\n",
            "rating      77 non-null float64\n",
            "dtypes: float64(5), int64(8), object(3)\n",
            "memory usage: 9.7+ KB\n"
          ],
          "name": "stdout"
        }
      ]
    },
    {
      "metadata": {
        "id": "RAqfqw7F8FYQ",
        "colab_type": "text"
      },
      "cell_type": "markdown",
      "source": [
        "Let us now take a look at [describe](https://pandas.pydata.org/pandas-docs/stable/generated/pandas.DataFrame.describe.html) function. It gives statistical analysis of each numerical column. The 25%, 50% and 75% refer to Q1, Q2 and Q3 [quartile](https://www.mathsisfun.com/data/quartiles.html), where Q2 is the median. std is the standard deviation. "
      ]
    },
    {
      "metadata": {
        "id": "c39mtdTp8T49",
        "colab_type": "code",
        "colab": {
          "base_uri": "https://localhost:8080/",
          "height": 297
        },
        "outputId": "6d2f4199-8cf4-4c15-abff-36a855e158f3"
      },
      "cell_type": "code",
      "source": [
        "df.describe()"
      ],
      "execution_count": 61,
      "outputs": [
        {
          "output_type": "execute_result",
          "data": {
            "text/html": [
              "<div>\n",
              "<style scoped>\n",
              "    .dataframe tbody tr th:only-of-type {\n",
              "        vertical-align: middle;\n",
              "    }\n",
              "\n",
              "    .dataframe tbody tr th {\n",
              "        vertical-align: top;\n",
              "    }\n",
              "\n",
              "    .dataframe thead th {\n",
              "        text-align: right;\n",
              "    }\n",
              "</style>\n",
              "<table border=\"1\" class=\"dataframe\">\n",
              "  <thead>\n",
              "    <tr style=\"text-align: right;\">\n",
              "      <th></th>\n",
              "      <th>calories</th>\n",
              "      <th>protein</th>\n",
              "      <th>fat</th>\n",
              "      <th>sodium</th>\n",
              "      <th>fiber</th>\n",
              "      <th>carbo</th>\n",
              "      <th>sugars</th>\n",
              "      <th>potass</th>\n",
              "      <th>vitamins</th>\n",
              "      <th>shelf</th>\n",
              "      <th>weight</th>\n",
              "      <th>cups</th>\n",
              "      <th>rating</th>\n",
              "    </tr>\n",
              "  </thead>\n",
              "  <tbody>\n",
              "    <tr>\n",
              "      <th>count</th>\n",
              "      <td>77.000000</td>\n",
              "      <td>77.000000</td>\n",
              "      <td>77.000000</td>\n",
              "      <td>77.000000</td>\n",
              "      <td>77.000000</td>\n",
              "      <td>77.000000</td>\n",
              "      <td>77.000000</td>\n",
              "      <td>77.000000</td>\n",
              "      <td>77.000000</td>\n",
              "      <td>77.000000</td>\n",
              "      <td>77.000000</td>\n",
              "      <td>77.000000</td>\n",
              "      <td>77.000000</td>\n",
              "    </tr>\n",
              "    <tr>\n",
              "      <th>mean</th>\n",
              "      <td>106.883117</td>\n",
              "      <td>2.545455</td>\n",
              "      <td>1.012987</td>\n",
              "      <td>159.675325</td>\n",
              "      <td>2.151948</td>\n",
              "      <td>14.597403</td>\n",
              "      <td>6.922078</td>\n",
              "      <td>96.077922</td>\n",
              "      <td>28.246753</td>\n",
              "      <td>2.207792</td>\n",
              "      <td>1.029610</td>\n",
              "      <td>0.821039</td>\n",
              "      <td>42.665705</td>\n",
              "    </tr>\n",
              "    <tr>\n",
              "      <th>std</th>\n",
              "      <td>19.484119</td>\n",
              "      <td>1.094790</td>\n",
              "      <td>1.006473</td>\n",
              "      <td>83.832295</td>\n",
              "      <td>2.383364</td>\n",
              "      <td>4.278956</td>\n",
              "      <td>4.444885</td>\n",
              "      <td>71.286813</td>\n",
              "      <td>22.342523</td>\n",
              "      <td>0.832524</td>\n",
              "      <td>0.150477</td>\n",
              "      <td>0.232716</td>\n",
              "      <td>14.047289</td>\n",
              "    </tr>\n",
              "    <tr>\n",
              "      <th>min</th>\n",
              "      <td>50.000000</td>\n",
              "      <td>1.000000</td>\n",
              "      <td>0.000000</td>\n",
              "      <td>0.000000</td>\n",
              "      <td>0.000000</td>\n",
              "      <td>-1.000000</td>\n",
              "      <td>-1.000000</td>\n",
              "      <td>-1.000000</td>\n",
              "      <td>0.000000</td>\n",
              "      <td>1.000000</td>\n",
              "      <td>0.500000</td>\n",
              "      <td>0.250000</td>\n",
              "      <td>18.042851</td>\n",
              "    </tr>\n",
              "    <tr>\n",
              "      <th>25%</th>\n",
              "      <td>100.000000</td>\n",
              "      <td>2.000000</td>\n",
              "      <td>0.000000</td>\n",
              "      <td>130.000000</td>\n",
              "      <td>1.000000</td>\n",
              "      <td>12.000000</td>\n",
              "      <td>3.000000</td>\n",
              "      <td>40.000000</td>\n",
              "      <td>25.000000</td>\n",
              "      <td>1.000000</td>\n",
              "      <td>1.000000</td>\n",
              "      <td>0.670000</td>\n",
              "      <td>33.174094</td>\n",
              "    </tr>\n",
              "    <tr>\n",
              "      <th>50%</th>\n",
              "      <td>110.000000</td>\n",
              "      <td>3.000000</td>\n",
              "      <td>1.000000</td>\n",
              "      <td>180.000000</td>\n",
              "      <td>2.000000</td>\n",
              "      <td>14.000000</td>\n",
              "      <td>7.000000</td>\n",
              "      <td>90.000000</td>\n",
              "      <td>25.000000</td>\n",
              "      <td>2.000000</td>\n",
              "      <td>1.000000</td>\n",
              "      <td>0.750000</td>\n",
              "      <td>40.400208</td>\n",
              "    </tr>\n",
              "    <tr>\n",
              "      <th>75%</th>\n",
              "      <td>110.000000</td>\n",
              "      <td>3.000000</td>\n",
              "      <td>2.000000</td>\n",
              "      <td>210.000000</td>\n",
              "      <td>3.000000</td>\n",
              "      <td>17.000000</td>\n",
              "      <td>11.000000</td>\n",
              "      <td>120.000000</td>\n",
              "      <td>25.000000</td>\n",
              "      <td>3.000000</td>\n",
              "      <td>1.000000</td>\n",
              "      <td>1.000000</td>\n",
              "      <td>50.828392</td>\n",
              "    </tr>\n",
              "    <tr>\n",
              "      <th>max</th>\n",
              "      <td>160.000000</td>\n",
              "      <td>6.000000</td>\n",
              "      <td>5.000000</td>\n",
              "      <td>320.000000</td>\n",
              "      <td>14.000000</td>\n",
              "      <td>23.000000</td>\n",
              "      <td>15.000000</td>\n",
              "      <td>330.000000</td>\n",
              "      <td>100.000000</td>\n",
              "      <td>3.000000</td>\n",
              "      <td>1.500000</td>\n",
              "      <td>1.500000</td>\n",
              "      <td>93.704912</td>\n",
              "    </tr>\n",
              "  </tbody>\n",
              "</table>\n",
              "</div>"
            ],
            "text/plain": [
              "         calories    protein        fat      sodium      fiber      carbo  \\\n",
              "count   77.000000  77.000000  77.000000   77.000000  77.000000  77.000000   \n",
              "mean   106.883117   2.545455   1.012987  159.675325   2.151948  14.597403   \n",
              "std     19.484119   1.094790   1.006473   83.832295   2.383364   4.278956   \n",
              "min     50.000000   1.000000   0.000000    0.000000   0.000000  -1.000000   \n",
              "25%    100.000000   2.000000   0.000000  130.000000   1.000000  12.000000   \n",
              "50%    110.000000   3.000000   1.000000  180.000000   2.000000  14.000000   \n",
              "75%    110.000000   3.000000   2.000000  210.000000   3.000000  17.000000   \n",
              "max    160.000000   6.000000   5.000000  320.000000  14.000000  23.000000   \n",
              "\n",
              "          sugars      potass    vitamins      shelf     weight       cups  \\\n",
              "count  77.000000   77.000000   77.000000  77.000000  77.000000  77.000000   \n",
              "mean    6.922078   96.077922   28.246753   2.207792   1.029610   0.821039   \n",
              "std     4.444885   71.286813   22.342523   0.832524   0.150477   0.232716   \n",
              "min    -1.000000   -1.000000    0.000000   1.000000   0.500000   0.250000   \n",
              "25%     3.000000   40.000000   25.000000   1.000000   1.000000   0.670000   \n",
              "50%     7.000000   90.000000   25.000000   2.000000   1.000000   0.750000   \n",
              "75%    11.000000  120.000000   25.000000   3.000000   1.000000   1.000000   \n",
              "max    15.000000  330.000000  100.000000   3.000000   1.500000   1.500000   \n",
              "\n",
              "          rating  \n",
              "count  77.000000  \n",
              "mean   42.665705  \n",
              "std    14.047289  \n",
              "min    18.042851  \n",
              "25%    33.174094  \n",
              "50%    40.400208  \n",
              "75%    50.828392  \n",
              "max    93.704912  "
            ]
          },
          "metadata": {
            "tags": []
          },
          "execution_count": 61
        }
      ]
    },
    {
      "metadata": {
        "id": "t4eiVp6L_Shu",
        "colab_type": "text"
      },
      "cell_type": "markdown",
      "source": [
        "Notice that above did not show description of all columns. It carefully ommited the non-numerical columns. To show description of all we need to pass include='all' named attribute. You will now notice that numerical estimates are NaN for categorical data and category estimates are NaN for numerical data, making it a bit confusing."
      ]
    },
    {
      "metadata": {
        "id": "1IL2P5sx_V35",
        "colab_type": "code",
        "colab": {
          "base_uri": "https://localhost:8080/",
          "height": 390
        },
        "outputId": "29619c40-620a-44c6-f80c-2b82a0e1f073"
      },
      "cell_type": "code",
      "source": [
        "df.describe(include='all')"
      ],
      "execution_count": 69,
      "outputs": [
        {
          "output_type": "execute_result",
          "data": {
            "text/html": [
              "<div>\n",
              "<style scoped>\n",
              "    .dataframe tbody tr th:only-of-type {\n",
              "        vertical-align: middle;\n",
              "    }\n",
              "\n",
              "    .dataframe tbody tr th {\n",
              "        vertical-align: top;\n",
              "    }\n",
              "\n",
              "    .dataframe thead th {\n",
              "        text-align: right;\n",
              "    }\n",
              "</style>\n",
              "<table border=\"1\" class=\"dataframe\">\n",
              "  <thead>\n",
              "    <tr style=\"text-align: right;\">\n",
              "      <th></th>\n",
              "      <th>name</th>\n",
              "      <th>mfr</th>\n",
              "      <th>type</th>\n",
              "      <th>calories</th>\n",
              "      <th>protein</th>\n",
              "      <th>fat</th>\n",
              "      <th>sodium</th>\n",
              "      <th>fiber</th>\n",
              "      <th>carbo</th>\n",
              "      <th>sugars</th>\n",
              "      <th>potass</th>\n",
              "      <th>vitamins</th>\n",
              "      <th>shelf</th>\n",
              "      <th>weight</th>\n",
              "      <th>cups</th>\n",
              "      <th>rating</th>\n",
              "    </tr>\n",
              "  </thead>\n",
              "  <tbody>\n",
              "    <tr>\n",
              "      <th>count</th>\n",
              "      <td>77</td>\n",
              "      <td>77</td>\n",
              "      <td>77</td>\n",
              "      <td>77.000000</td>\n",
              "      <td>77.000000</td>\n",
              "      <td>77.000000</td>\n",
              "      <td>77.000000</td>\n",
              "      <td>77.000000</td>\n",
              "      <td>77.000000</td>\n",
              "      <td>77.000000</td>\n",
              "      <td>77.000000</td>\n",
              "      <td>77.000000</td>\n",
              "      <td>77.000000</td>\n",
              "      <td>77.000000</td>\n",
              "      <td>77.000000</td>\n",
              "      <td>77.000000</td>\n",
              "    </tr>\n",
              "    <tr>\n",
              "      <th>unique</th>\n",
              "      <td>77</td>\n",
              "      <td>7</td>\n",
              "      <td>2</td>\n",
              "      <td>NaN</td>\n",
              "      <td>NaN</td>\n",
              "      <td>NaN</td>\n",
              "      <td>NaN</td>\n",
              "      <td>NaN</td>\n",
              "      <td>NaN</td>\n",
              "      <td>NaN</td>\n",
              "      <td>NaN</td>\n",
              "      <td>NaN</td>\n",
              "      <td>NaN</td>\n",
              "      <td>NaN</td>\n",
              "      <td>NaN</td>\n",
              "      <td>NaN</td>\n",
              "    </tr>\n",
              "    <tr>\n",
              "      <th>top</th>\n",
              "      <td>Trix</td>\n",
              "      <td>K</td>\n",
              "      <td>C</td>\n",
              "      <td>NaN</td>\n",
              "      <td>NaN</td>\n",
              "      <td>NaN</td>\n",
              "      <td>NaN</td>\n",
              "      <td>NaN</td>\n",
              "      <td>NaN</td>\n",
              "      <td>NaN</td>\n",
              "      <td>NaN</td>\n",
              "      <td>NaN</td>\n",
              "      <td>NaN</td>\n",
              "      <td>NaN</td>\n",
              "      <td>NaN</td>\n",
              "      <td>NaN</td>\n",
              "    </tr>\n",
              "    <tr>\n",
              "      <th>freq</th>\n",
              "      <td>1</td>\n",
              "      <td>23</td>\n",
              "      <td>74</td>\n",
              "      <td>NaN</td>\n",
              "      <td>NaN</td>\n",
              "      <td>NaN</td>\n",
              "      <td>NaN</td>\n",
              "      <td>NaN</td>\n",
              "      <td>NaN</td>\n",
              "      <td>NaN</td>\n",
              "      <td>NaN</td>\n",
              "      <td>NaN</td>\n",
              "      <td>NaN</td>\n",
              "      <td>NaN</td>\n",
              "      <td>NaN</td>\n",
              "      <td>NaN</td>\n",
              "    </tr>\n",
              "    <tr>\n",
              "      <th>mean</th>\n",
              "      <td>NaN</td>\n",
              "      <td>NaN</td>\n",
              "      <td>NaN</td>\n",
              "      <td>106.883117</td>\n",
              "      <td>2.545455</td>\n",
              "      <td>1.012987</td>\n",
              "      <td>159.675325</td>\n",
              "      <td>2.151948</td>\n",
              "      <td>14.597403</td>\n",
              "      <td>6.922078</td>\n",
              "      <td>96.077922</td>\n",
              "      <td>28.246753</td>\n",
              "      <td>2.207792</td>\n",
              "      <td>1.029610</td>\n",
              "      <td>0.821039</td>\n",
              "      <td>42.665705</td>\n",
              "    </tr>\n",
              "    <tr>\n",
              "      <th>std</th>\n",
              "      <td>NaN</td>\n",
              "      <td>NaN</td>\n",
              "      <td>NaN</td>\n",
              "      <td>19.484119</td>\n",
              "      <td>1.094790</td>\n",
              "      <td>1.006473</td>\n",
              "      <td>83.832295</td>\n",
              "      <td>2.383364</td>\n",
              "      <td>4.278956</td>\n",
              "      <td>4.444885</td>\n",
              "      <td>71.286813</td>\n",
              "      <td>22.342523</td>\n",
              "      <td>0.832524</td>\n",
              "      <td>0.150477</td>\n",
              "      <td>0.232716</td>\n",
              "      <td>14.047289</td>\n",
              "    </tr>\n",
              "    <tr>\n",
              "      <th>min</th>\n",
              "      <td>NaN</td>\n",
              "      <td>NaN</td>\n",
              "      <td>NaN</td>\n",
              "      <td>50.000000</td>\n",
              "      <td>1.000000</td>\n",
              "      <td>0.000000</td>\n",
              "      <td>0.000000</td>\n",
              "      <td>0.000000</td>\n",
              "      <td>-1.000000</td>\n",
              "      <td>-1.000000</td>\n",
              "      <td>-1.000000</td>\n",
              "      <td>0.000000</td>\n",
              "      <td>1.000000</td>\n",
              "      <td>0.500000</td>\n",
              "      <td>0.250000</td>\n",
              "      <td>18.042851</td>\n",
              "    </tr>\n",
              "    <tr>\n",
              "      <th>25%</th>\n",
              "      <td>NaN</td>\n",
              "      <td>NaN</td>\n",
              "      <td>NaN</td>\n",
              "      <td>100.000000</td>\n",
              "      <td>2.000000</td>\n",
              "      <td>0.000000</td>\n",
              "      <td>130.000000</td>\n",
              "      <td>1.000000</td>\n",
              "      <td>12.000000</td>\n",
              "      <td>3.000000</td>\n",
              "      <td>40.000000</td>\n",
              "      <td>25.000000</td>\n",
              "      <td>1.000000</td>\n",
              "      <td>1.000000</td>\n",
              "      <td>0.670000</td>\n",
              "      <td>33.174094</td>\n",
              "    </tr>\n",
              "    <tr>\n",
              "      <th>50%</th>\n",
              "      <td>NaN</td>\n",
              "      <td>NaN</td>\n",
              "      <td>NaN</td>\n",
              "      <td>110.000000</td>\n",
              "      <td>3.000000</td>\n",
              "      <td>1.000000</td>\n",
              "      <td>180.000000</td>\n",
              "      <td>2.000000</td>\n",
              "      <td>14.000000</td>\n",
              "      <td>7.000000</td>\n",
              "      <td>90.000000</td>\n",
              "      <td>25.000000</td>\n",
              "      <td>2.000000</td>\n",
              "      <td>1.000000</td>\n",
              "      <td>0.750000</td>\n",
              "      <td>40.400208</td>\n",
              "    </tr>\n",
              "    <tr>\n",
              "      <th>75%</th>\n",
              "      <td>NaN</td>\n",
              "      <td>NaN</td>\n",
              "      <td>NaN</td>\n",
              "      <td>110.000000</td>\n",
              "      <td>3.000000</td>\n",
              "      <td>2.000000</td>\n",
              "      <td>210.000000</td>\n",
              "      <td>3.000000</td>\n",
              "      <td>17.000000</td>\n",
              "      <td>11.000000</td>\n",
              "      <td>120.000000</td>\n",
              "      <td>25.000000</td>\n",
              "      <td>3.000000</td>\n",
              "      <td>1.000000</td>\n",
              "      <td>1.000000</td>\n",
              "      <td>50.828392</td>\n",
              "    </tr>\n",
              "    <tr>\n",
              "      <th>max</th>\n",
              "      <td>NaN</td>\n",
              "      <td>NaN</td>\n",
              "      <td>NaN</td>\n",
              "      <td>160.000000</td>\n",
              "      <td>6.000000</td>\n",
              "      <td>5.000000</td>\n",
              "      <td>320.000000</td>\n",
              "      <td>14.000000</td>\n",
              "      <td>23.000000</td>\n",
              "      <td>15.000000</td>\n",
              "      <td>330.000000</td>\n",
              "      <td>100.000000</td>\n",
              "      <td>3.000000</td>\n",
              "      <td>1.500000</td>\n",
              "      <td>1.500000</td>\n",
              "      <td>93.704912</td>\n",
              "    </tr>\n",
              "  </tbody>\n",
              "</table>\n",
              "</div>"
            ],
            "text/plain": [
              "        name  mfr type    calories    protein        fat      sodium  \\\n",
              "count     77   77   77   77.000000  77.000000  77.000000   77.000000   \n",
              "unique    77    7    2         NaN        NaN        NaN         NaN   \n",
              "top     Trix    K    C         NaN        NaN        NaN         NaN   \n",
              "freq       1   23   74         NaN        NaN        NaN         NaN   \n",
              "mean     NaN  NaN  NaN  106.883117   2.545455   1.012987  159.675325   \n",
              "std      NaN  NaN  NaN   19.484119   1.094790   1.006473   83.832295   \n",
              "min      NaN  NaN  NaN   50.000000   1.000000   0.000000    0.000000   \n",
              "25%      NaN  NaN  NaN  100.000000   2.000000   0.000000  130.000000   \n",
              "50%      NaN  NaN  NaN  110.000000   3.000000   1.000000  180.000000   \n",
              "75%      NaN  NaN  NaN  110.000000   3.000000   2.000000  210.000000   \n",
              "max      NaN  NaN  NaN  160.000000   6.000000   5.000000  320.000000   \n",
              "\n",
              "            fiber      carbo     sugars      potass    vitamins      shelf  \\\n",
              "count   77.000000  77.000000  77.000000   77.000000   77.000000  77.000000   \n",
              "unique        NaN        NaN        NaN         NaN         NaN        NaN   \n",
              "top           NaN        NaN        NaN         NaN         NaN        NaN   \n",
              "freq          NaN        NaN        NaN         NaN         NaN        NaN   \n",
              "mean     2.151948  14.597403   6.922078   96.077922   28.246753   2.207792   \n",
              "std      2.383364   4.278956   4.444885   71.286813   22.342523   0.832524   \n",
              "min      0.000000  -1.000000  -1.000000   -1.000000    0.000000   1.000000   \n",
              "25%      1.000000  12.000000   3.000000   40.000000   25.000000   1.000000   \n",
              "50%      2.000000  14.000000   7.000000   90.000000   25.000000   2.000000   \n",
              "75%      3.000000  17.000000  11.000000  120.000000   25.000000   3.000000   \n",
              "max     14.000000  23.000000  15.000000  330.000000  100.000000   3.000000   \n",
              "\n",
              "           weight       cups     rating  \n",
              "count   77.000000  77.000000  77.000000  \n",
              "unique        NaN        NaN        NaN  \n",
              "top           NaN        NaN        NaN  \n",
              "freq          NaN        NaN        NaN  \n",
              "mean     1.029610   0.821039  42.665705  \n",
              "std      0.150477   0.232716  14.047289  \n",
              "min      0.500000   0.250000  18.042851  \n",
              "25%      1.000000   0.670000  33.174094  \n",
              "50%      1.000000   0.750000  40.400208  \n",
              "75%      1.000000   1.000000  50.828392  \n",
              "max      1.500000   1.500000  93.704912  "
            ]
          },
          "metadata": {
            "tags": []
          },
          "execution_count": 69
        }
      ]
    },
    {
      "metadata": {
        "id": "nHZnN7pNA4o-",
        "colab_type": "text"
      },
      "cell_type": "markdown",
      "source": [
        "There are actually three types of data in a dataframe:\n",
        "1. **Numerical**: integer and floating point numbers (quatitative data)\n",
        "2. **Category**: qualitative data\n",
        "3. **Object**: strings and timestamps, e.g. comments by users, time of submission etc.\n",
        "\n",
        "We can use include or esclude parameters in describe to see what we want."
      ]
    },
    {
      "metadata": {
        "id": "YbpfgEp2B2--",
        "colab_type": "code",
        "colab": {
          "base_uri": "https://localhost:8080/",
          "height": 173
        },
        "outputId": "fae1151e-8bf7-4eb9-9f4d-eba8959afc7c"
      },
      "cell_type": "code",
      "source": [
        "df.describe(include=[np.object])"
      ],
      "execution_count": 71,
      "outputs": [
        {
          "output_type": "execute_result",
          "data": {
            "text/html": [
              "<div>\n",
              "<style scoped>\n",
              "    .dataframe tbody tr th:only-of-type {\n",
              "        vertical-align: middle;\n",
              "    }\n",
              "\n",
              "    .dataframe tbody tr th {\n",
              "        vertical-align: top;\n",
              "    }\n",
              "\n",
              "    .dataframe thead th {\n",
              "        text-align: right;\n",
              "    }\n",
              "</style>\n",
              "<table border=\"1\" class=\"dataframe\">\n",
              "  <thead>\n",
              "    <tr style=\"text-align: right;\">\n",
              "      <th></th>\n",
              "      <th>name</th>\n",
              "      <th>mfr</th>\n",
              "      <th>type</th>\n",
              "    </tr>\n",
              "  </thead>\n",
              "  <tbody>\n",
              "    <tr>\n",
              "      <th>count</th>\n",
              "      <td>77</td>\n",
              "      <td>77</td>\n",
              "      <td>77</td>\n",
              "    </tr>\n",
              "    <tr>\n",
              "      <th>unique</th>\n",
              "      <td>77</td>\n",
              "      <td>7</td>\n",
              "      <td>2</td>\n",
              "    </tr>\n",
              "    <tr>\n",
              "      <th>top</th>\n",
              "      <td>Trix</td>\n",
              "      <td>K</td>\n",
              "      <td>C</td>\n",
              "    </tr>\n",
              "    <tr>\n",
              "      <th>freq</th>\n",
              "      <td>1</td>\n",
              "      <td>23</td>\n",
              "      <td>74</td>\n",
              "    </tr>\n",
              "  </tbody>\n",
              "</table>\n",
              "</div>"
            ],
            "text/plain": [
              "        name mfr type\n",
              "count     77  77   77\n",
              "unique    77   7    2\n",
              "top     Trix   K    C\n",
              "freq       1  23   74"
            ]
          },
          "metadata": {
            "tags": []
          },
          "execution_count": 71
        }
      ]
    },
    {
      "metadata": {
        "id": "DUph6vvVCYnO",
        "colab_type": "code",
        "colab": {
          "base_uri": "https://localhost:8080/",
          "height": 173
        },
        "outputId": "eeaad347-265d-46e7-ea2a-604803405a74"
      },
      "cell_type": "code",
      "source": [
        "df.describe(exclude=[np.number])"
      ],
      "execution_count": 72,
      "outputs": [
        {
          "output_type": "execute_result",
          "data": {
            "text/html": [
              "<div>\n",
              "<style scoped>\n",
              "    .dataframe tbody tr th:only-of-type {\n",
              "        vertical-align: middle;\n",
              "    }\n",
              "\n",
              "    .dataframe tbody tr th {\n",
              "        vertical-align: top;\n",
              "    }\n",
              "\n",
              "    .dataframe thead th {\n",
              "        text-align: right;\n",
              "    }\n",
              "</style>\n",
              "<table border=\"1\" class=\"dataframe\">\n",
              "  <thead>\n",
              "    <tr style=\"text-align: right;\">\n",
              "      <th></th>\n",
              "      <th>name</th>\n",
              "      <th>mfr</th>\n",
              "      <th>type</th>\n",
              "    </tr>\n",
              "  </thead>\n",
              "  <tbody>\n",
              "    <tr>\n",
              "      <th>count</th>\n",
              "      <td>77</td>\n",
              "      <td>77</td>\n",
              "      <td>77</td>\n",
              "    </tr>\n",
              "    <tr>\n",
              "      <th>unique</th>\n",
              "      <td>77</td>\n",
              "      <td>7</td>\n",
              "      <td>2</td>\n",
              "    </tr>\n",
              "    <tr>\n",
              "      <th>top</th>\n",
              "      <td>Trix</td>\n",
              "      <td>K</td>\n",
              "      <td>C</td>\n",
              "    </tr>\n",
              "    <tr>\n",
              "      <th>freq</th>\n",
              "      <td>1</td>\n",
              "      <td>23</td>\n",
              "      <td>74</td>\n",
              "    </tr>\n",
              "  </tbody>\n",
              "</table>\n",
              "</div>"
            ],
            "text/plain": [
              "        name mfr type\n",
              "count     77  77   77\n",
              "unique    77   7    2\n",
              "top     Trix   K    C\n",
              "freq       1  23   74"
            ]
          },
          "metadata": {
            "tags": []
          },
          "execution_count": 72
        }
      ]
    },
    {
      "metadata": {
        "id": "lMA5RDXqCg0e",
        "colab_type": "code",
        "colab": {
          "base_uri": "https://localhost:8080/",
          "height": 173
        },
        "outputId": "694d7f1a-3023-48cb-d295-cc9fca1d4998"
      },
      "cell_type": "code",
      "source": [
        "df.describe(include=['object'])"
      ],
      "execution_count": 74,
      "outputs": [
        {
          "output_type": "execute_result",
          "data": {
            "text/html": [
              "<div>\n",
              "<style scoped>\n",
              "    .dataframe tbody tr th:only-of-type {\n",
              "        vertical-align: middle;\n",
              "    }\n",
              "\n",
              "    .dataframe tbody tr th {\n",
              "        vertical-align: top;\n",
              "    }\n",
              "\n",
              "    .dataframe thead th {\n",
              "        text-align: right;\n",
              "    }\n",
              "</style>\n",
              "<table border=\"1\" class=\"dataframe\">\n",
              "  <thead>\n",
              "    <tr style=\"text-align: right;\">\n",
              "      <th></th>\n",
              "      <th>name</th>\n",
              "      <th>mfr</th>\n",
              "      <th>type</th>\n",
              "    </tr>\n",
              "  </thead>\n",
              "  <tbody>\n",
              "    <tr>\n",
              "      <th>count</th>\n",
              "      <td>77</td>\n",
              "      <td>77</td>\n",
              "      <td>77</td>\n",
              "    </tr>\n",
              "    <tr>\n",
              "      <th>unique</th>\n",
              "      <td>77</td>\n",
              "      <td>7</td>\n",
              "      <td>2</td>\n",
              "    </tr>\n",
              "    <tr>\n",
              "      <th>top</th>\n",
              "      <td>Trix</td>\n",
              "      <td>K</td>\n",
              "      <td>C</td>\n",
              "    </tr>\n",
              "    <tr>\n",
              "      <th>freq</th>\n",
              "      <td>1</td>\n",
              "      <td>23</td>\n",
              "      <td>74</td>\n",
              "    </tr>\n",
              "  </tbody>\n",
              "</table>\n",
              "</div>"
            ],
            "text/plain": [
              "        name mfr type\n",
              "count     77  77   77\n",
              "unique    77   7    2\n",
              "top     Trix   K    C\n",
              "freq       1  23   74"
            ]
          },
          "metadata": {
            "tags": []
          },
          "execution_count": 74
        }
      ]
    },
    {
      "metadata": {
        "id": "LtCseJbuC3P_",
        "colab_type": "text"
      },
      "cell_type": "markdown",
      "source": [
        "From df.info() we see that type is also an Object type but we would like it to be a category, we can do so by changing the type of the column as:"
      ]
    },
    {
      "metadata": {
        "id": "JUAAO1VpC-HW",
        "colab_type": "code",
        "colab": {
          "base_uri": "https://localhost:8080/",
          "height": 374
        },
        "outputId": "fae4b2c1-6983-4d2b-a38b-7da2f90af565"
      },
      "cell_type": "code",
      "source": [
        "df['type'] = pd.Categorical(df['type'])\n",
        "df.info()"
      ],
      "execution_count": 76,
      "outputs": [
        {
          "output_type": "stream",
          "text": [
            "<class 'pandas.core.frame.DataFrame'>\n",
            "RangeIndex: 77 entries, 0 to 76\n",
            "Data columns (total 16 columns):\n",
            "name        77 non-null object\n",
            "mfr         77 non-null object\n",
            "type        77 non-null category\n",
            "calories    77 non-null int64\n",
            "protein     77 non-null int64\n",
            "fat         77 non-null int64\n",
            "sodium      77 non-null int64\n",
            "fiber       77 non-null float64\n",
            "carbo       77 non-null float64\n",
            "sugars      77 non-null int64\n",
            "potass      77 non-null int64\n",
            "vitamins    77 non-null int64\n",
            "shelf       77 non-null int64\n",
            "weight      77 non-null float64\n",
            "cups        77 non-null float64\n",
            "rating      77 non-null float64\n",
            "dtypes: category(1), float64(5), int64(8), object(2)\n",
            "memory usage: 9.3+ KB\n"
          ],
          "name": "stdout"
        }
      ]
    },
    {
      "metadata": {
        "id": "wXy8981WDIA4",
        "colab_type": "code",
        "colab": {
          "base_uri": "https://localhost:8080/",
          "height": 173
        },
        "outputId": "11e8dd0b-d881-4de5-aed2-21ccb6b5aeda"
      },
      "cell_type": "code",
      "source": [
        "df.describe(include=['category'])"
      ],
      "execution_count": 77,
      "outputs": [
        {
          "output_type": "execute_result",
          "data": {
            "text/html": [
              "<div>\n",
              "<style scoped>\n",
              "    .dataframe tbody tr th:only-of-type {\n",
              "        vertical-align: middle;\n",
              "    }\n",
              "\n",
              "    .dataframe tbody tr th {\n",
              "        vertical-align: top;\n",
              "    }\n",
              "\n",
              "    .dataframe thead th {\n",
              "        text-align: right;\n",
              "    }\n",
              "</style>\n",
              "<table border=\"1\" class=\"dataframe\">\n",
              "  <thead>\n",
              "    <tr style=\"text-align: right;\">\n",
              "      <th></th>\n",
              "      <th>type</th>\n",
              "    </tr>\n",
              "  </thead>\n",
              "  <tbody>\n",
              "    <tr>\n",
              "      <th>count</th>\n",
              "      <td>77</td>\n",
              "    </tr>\n",
              "    <tr>\n",
              "      <th>unique</th>\n",
              "      <td>2</td>\n",
              "    </tr>\n",
              "    <tr>\n",
              "      <th>top</th>\n",
              "      <td>C</td>\n",
              "    </tr>\n",
              "    <tr>\n",
              "      <th>freq</th>\n",
              "      <td>74</td>\n",
              "    </tr>\n",
              "  </tbody>\n",
              "</table>\n",
              "</div>"
            ],
            "text/plain": [
              "       type\n",
              "count    77\n",
              "unique    2\n",
              "top       C\n",
              "freq     74"
            ]
          },
          "metadata": {
            "tags": []
          },
          "execution_count": 77
        }
      ]
    },
    {
      "metadata": {
        "id": "vV965JzEDkUG",
        "colab_type": "text"
      },
      "cell_type": "markdown",
      "source": [
        "![alt text](https://shanelynnwebsite-mid9n9g1q9y8tt.netdna-ssl.com/wp-content/uploads/2016/10/Pandas-selections-and-indexing-768x549.png)\n",
        "\n",
        "We can access series by directly giving the name or by index to iloc function. For example to get first value in series Name, which is first column accourding to info, we can do the following. "
      ]
    },
    {
      "metadata": {
        "id": "DR-z8DdzDq-t",
        "colab_type": "code",
        "colab": {
          "base_uri": "https://localhost:8080/",
          "height": 34
        },
        "outputId": "1f77483f-4071-442b-dc4a-8f41a9f56a63"
      },
      "cell_type": "code",
      "source": [
        "df[\"name\"][0]"
      ],
      "execution_count": 84,
      "outputs": [
        {
          "output_type": "execute_result",
          "data": {
            "text/plain": [
              "'100% Bran'"
            ]
          },
          "metadata": {
            "tags": []
          },
          "execution_count": 84
        }
      ]
    },
    {
      "metadata": {
        "id": "v8ol_yTAD8ft",
        "colab_type": "code",
        "colab": {
          "base_uri": "https://localhost:8080/",
          "height": 34
        },
        "outputId": "790c88ab-c57f-4aa1-a3b4-6337429b0104"
      },
      "cell_type": "code",
      "source": [
        "df.iloc[0,0]"
      ],
      "execution_count": 83,
      "outputs": [
        {
          "output_type": "execute_result",
          "data": {
            "text/plain": [
              "'100% Bran'"
            ]
          },
          "metadata": {
            "tags": []
          },
          "execution_count": 83
        }
      ]
    },
    {
      "metadata": {
        "id": "T5NeYIOTEUbW",
        "colab_type": "code",
        "colab": {
          "base_uri": "https://localhost:8080/",
          "height": 51
        },
        "outputId": "20a0dfc9-5732-4d16-ce7b-1608fbac13e2"
      },
      "cell_type": "code",
      "source": [
        "print(type(df['name']))\n",
        "print(type(df.iloc[0]))"
      ],
      "execution_count": 85,
      "outputs": [
        {
          "output_type": "stream",
          "text": [
            "<class 'pandas.core.series.Series'>\n",
            "<class 'pandas.core.series.Series'>\n"
          ],
          "name": "stdout"
        }
      ]
    },
    {
      "metadata": {
        "id": "LT-9OuT0Etql",
        "colab_type": "text"
      },
      "cell_type": "markdown",
      "source": [
        "# Indexing rows\n",
        "\n",
        "We can create index in a dataframe to search elements by key values easily. By default index starts from 0 for row 1 and increaments by 1 for each subsequent row. We can see the index of a dataframe as shown below. You can select columns using** column names** or **iloc** and rows using **loc**.\n",
        "\n",
        "> **LOC vs ILOC in Pandas**\n",
        " \n",
        "> **iloc** in pandas is used to select rows and columns by number, in the order that they appear in the data frame. You can imagine that each row has a row number from 0 to the total rows (`data.shape[0]`)  and  `iloc[]` allows selections based on these numbers. The same applies for columns (ranging from `0` to `data.shape[1]` )\n",
        "\n",
        "> There are two “arguments” to iloc – a row selector, and a column selector.\n",
        "\n",
        "> The Pandas **loc** indexer can be used with DataFrames for two different use cases:\n",
        "* Selecting rows by label/index\n",
        "* Selecting rows with a boolean / conditional lookup\n",
        "\n",
        "> The loc indexer is used with the same syntax as iloc: `data.loc[<row selection>, <column selection>] .`\n"
      ]
    },
    {
      "metadata": {
        "id": "hjJRm7JeE7CX",
        "colab_type": "code",
        "colab": {
          "base_uri": "https://localhost:8080/",
          "height": 34
        },
        "outputId": "2fae94f2-1185-4f9e-e482-cf223c36f0b0"
      },
      "cell_type": "code",
      "source": [
        "df.index"
      ],
      "execution_count": 89,
      "outputs": [
        {
          "output_type": "execute_result",
          "data": {
            "text/plain": [
              "RangeIndex(start=0, stop=77, step=1)"
            ]
          },
          "metadata": {
            "tags": []
          },
          "execution_count": 89
        }
      ]
    },
    {
      "metadata": {
        "id": "dPR32HWXFDV1",
        "colab_type": "text"
      },
      "cell_type": "markdown",
      "source": [
        "To get the 5th row now we can use the loc method. Note iLoc selects the columns or series, loc selects the rows instead. Below gives the first row"
      ]
    },
    {
      "metadata": {
        "id": "FAQO0INvFKzg",
        "colab_type": "code",
        "colab": {
          "base_uri": "https://localhost:8080/",
          "height": 306
        },
        "outputId": "88920d38-5bd0-4806-ed3f-22f4b15fbdb3"
      },
      "cell_type": "code",
      "source": [
        "df.loc[0]"
      ],
      "execution_count": 93,
      "outputs": [
        {
          "output_type": "execute_result",
          "data": {
            "text/plain": [
              "name        100% Bran\n",
              "mfr                 N\n",
              "type                C\n",
              "calories           70\n",
              "protein             4\n",
              "fat                 1\n",
              "sodium            130\n",
              "fiber              10\n",
              "carbo               5\n",
              "sugars              6\n",
              "potass            280\n",
              "vitamins           25\n",
              "shelf               3\n",
              "weight              1\n",
              "cups             0.33\n",
              "rating         68.403\n",
              "Name: 0, dtype: object"
            ]
          },
          "metadata": {
            "tags": []
          },
          "execution_count": 93
        }
      ]
    },
    {
      "metadata": {
        "id": "9k7fgi3DFauu",
        "colab_type": "code",
        "colab": {
          "base_uri": "https://localhost:8080/",
          "height": 204
        },
        "outputId": "5b25abbd-2d90-456f-e80e-4c2ccbb91008"
      },
      "cell_type": "code",
      "source": [
        "df.loc[range(0,5)] # get first 5 rows"
      ],
      "execution_count": 94,
      "outputs": [
        {
          "output_type": "execute_result",
          "data": {
            "text/html": [
              "<div>\n",
              "<style scoped>\n",
              "    .dataframe tbody tr th:only-of-type {\n",
              "        vertical-align: middle;\n",
              "    }\n",
              "\n",
              "    .dataframe tbody tr th {\n",
              "        vertical-align: top;\n",
              "    }\n",
              "\n",
              "    .dataframe thead th {\n",
              "        text-align: right;\n",
              "    }\n",
              "</style>\n",
              "<table border=\"1\" class=\"dataframe\">\n",
              "  <thead>\n",
              "    <tr style=\"text-align: right;\">\n",
              "      <th></th>\n",
              "      <th>name</th>\n",
              "      <th>mfr</th>\n",
              "      <th>type</th>\n",
              "      <th>calories</th>\n",
              "      <th>protein</th>\n",
              "      <th>fat</th>\n",
              "      <th>sodium</th>\n",
              "      <th>fiber</th>\n",
              "      <th>carbo</th>\n",
              "      <th>sugars</th>\n",
              "      <th>potass</th>\n",
              "      <th>vitamins</th>\n",
              "      <th>shelf</th>\n",
              "      <th>weight</th>\n",
              "      <th>cups</th>\n",
              "      <th>rating</th>\n",
              "    </tr>\n",
              "  </thead>\n",
              "  <tbody>\n",
              "    <tr>\n",
              "      <th>0</th>\n",
              "      <td>100% Bran</td>\n",
              "      <td>N</td>\n",
              "      <td>C</td>\n",
              "      <td>70</td>\n",
              "      <td>4</td>\n",
              "      <td>1</td>\n",
              "      <td>130</td>\n",
              "      <td>10.0</td>\n",
              "      <td>5.0</td>\n",
              "      <td>6</td>\n",
              "      <td>280</td>\n",
              "      <td>25</td>\n",
              "      <td>3</td>\n",
              "      <td>1.0</td>\n",
              "      <td>0.33</td>\n",
              "      <td>68.402973</td>\n",
              "    </tr>\n",
              "    <tr>\n",
              "      <th>1</th>\n",
              "      <td>100% Natural Bran</td>\n",
              "      <td>Q</td>\n",
              "      <td>C</td>\n",
              "      <td>120</td>\n",
              "      <td>3</td>\n",
              "      <td>5</td>\n",
              "      <td>15</td>\n",
              "      <td>2.0</td>\n",
              "      <td>8.0</td>\n",
              "      <td>8</td>\n",
              "      <td>135</td>\n",
              "      <td>0</td>\n",
              "      <td>3</td>\n",
              "      <td>1.0</td>\n",
              "      <td>1.00</td>\n",
              "      <td>33.983679</td>\n",
              "    </tr>\n",
              "    <tr>\n",
              "      <th>2</th>\n",
              "      <td>All-Bran</td>\n",
              "      <td>K</td>\n",
              "      <td>C</td>\n",
              "      <td>70</td>\n",
              "      <td>4</td>\n",
              "      <td>1</td>\n",
              "      <td>260</td>\n",
              "      <td>9.0</td>\n",
              "      <td>7.0</td>\n",
              "      <td>5</td>\n",
              "      <td>320</td>\n",
              "      <td>25</td>\n",
              "      <td>3</td>\n",
              "      <td>1.0</td>\n",
              "      <td>0.33</td>\n",
              "      <td>59.425505</td>\n",
              "    </tr>\n",
              "    <tr>\n",
              "      <th>3</th>\n",
              "      <td>All-Bran with Extra Fiber</td>\n",
              "      <td>K</td>\n",
              "      <td>C</td>\n",
              "      <td>50</td>\n",
              "      <td>4</td>\n",
              "      <td>0</td>\n",
              "      <td>140</td>\n",
              "      <td>14.0</td>\n",
              "      <td>8.0</td>\n",
              "      <td>0</td>\n",
              "      <td>330</td>\n",
              "      <td>25</td>\n",
              "      <td>3</td>\n",
              "      <td>1.0</td>\n",
              "      <td>0.50</td>\n",
              "      <td>93.704912</td>\n",
              "    </tr>\n",
              "    <tr>\n",
              "      <th>4</th>\n",
              "      <td>Almond Delight</td>\n",
              "      <td>R</td>\n",
              "      <td>C</td>\n",
              "      <td>110</td>\n",
              "      <td>2</td>\n",
              "      <td>2</td>\n",
              "      <td>200</td>\n",
              "      <td>1.0</td>\n",
              "      <td>14.0</td>\n",
              "      <td>8</td>\n",
              "      <td>-1</td>\n",
              "      <td>25</td>\n",
              "      <td>3</td>\n",
              "      <td>1.0</td>\n",
              "      <td>0.75</td>\n",
              "      <td>34.384843</td>\n",
              "    </tr>\n",
              "  </tbody>\n",
              "</table>\n",
              "</div>"
            ],
            "text/plain": [
              "                        name mfr type  calories  protein  fat  sodium  fiber  \\\n",
              "0                  100% Bran   N    C        70        4    1     130   10.0   \n",
              "1          100% Natural Bran   Q    C       120        3    5      15    2.0   \n",
              "2                   All-Bran   K    C        70        4    1     260    9.0   \n",
              "3  All-Bran with Extra Fiber   K    C        50        4    0     140   14.0   \n",
              "4             Almond Delight   R    C       110        2    2     200    1.0   \n",
              "\n",
              "   carbo  sugars  potass  vitamins  shelf  weight  cups     rating  \n",
              "0    5.0       6     280        25      3     1.0  0.33  68.402973  \n",
              "1    8.0       8     135         0      3     1.0  1.00  33.983679  \n",
              "2    7.0       5     320        25      3     1.0  0.33  59.425505  \n",
              "3    8.0       0     330        25      3     1.0  0.50  93.704912  \n",
              "4   14.0       8      -1        25      3     1.0  0.75  34.384843  "
            ]
          },
          "metadata": {
            "tags": []
          },
          "execution_count": 94
        }
      ]
    },
    {
      "metadata": {
        "id": "739X8iPnFhcu",
        "colab_type": "text"
      },
      "cell_type": "markdown",
      "source": [
        "We can however assign any key value to index, e.g. we know that name is unique ( we saw it in the info()). We can replace our index as below"
      ]
    },
    {
      "metadata": {
        "id": "EzmKySWTFqq_",
        "colab_type": "code",
        "colab": {
          "base_uri": "https://localhost:8080/",
          "height": 442
        },
        "outputId": "6ae040bf-fa68-4ff4-8a75-3a5f7086d516"
      },
      "cell_type": "code",
      "source": [
        "df.index = df[\"name\"]\n",
        "df.index"
      ],
      "execution_count": 96,
      "outputs": [
        {
          "output_type": "execute_result",
          "data": {
            "text/plain": [
              "Index(['100% Bran', '100% Natural Bran', 'All-Bran',\n",
              "       'All-Bran with Extra Fiber', 'Almond Delight',\n",
              "       'Apple Cinnamon Cheerios', 'Apple Jacks', 'Basic 4', 'Bran Chex',\n",
              "       'Bran Flakes', 'Cap'n'Crunch', 'Cheerios', 'Cinnamon Toast Crunch',\n",
              "       'Clusters', 'Cocoa Puffs', 'Corn Chex', 'Corn Flakes', 'Corn Pops',\n",
              "       'Count Chocula', 'Cracklin' Oat Bran', 'Cream of Wheat (Quick)',\n",
              "       'Crispix', 'Crispy Wheat & Raisins', 'Double Chex', 'Froot Loops',\n",
              "       'Frosted Flakes', 'Frosted Mini-Wheats',\n",
              "       'Fruit & Fibre Dates; Walnuts; and Oats', 'Fruitful Bran',\n",
              "       'Fruity Pebbles', 'Golden Crisp', 'Golden Grahams', 'Grape Nuts Flakes',\n",
              "       'Grape-Nuts', 'Great Grains Pecan', 'Honey Graham Ohs',\n",
              "       'Honey Nut Cheerios', 'Honey-comb', 'Just Right Crunchy  Nuggets',\n",
              "       'Just Right Fruit & Nut', 'Kix', 'Life', 'Lucky Charms', 'Maypo',\n",
              "       'Muesli Raisins; Dates; & Almonds', 'Muesli Raisins; Peaches; & Pecans',\n",
              "       'Mueslix Crispy Blend', 'Multi-Grain Cheerios', 'Nut&Honey Crunch',\n",
              "       'Nutri-Grain Almond-Raisin', 'Nutri-grain Wheat',\n",
              "       'Oatmeal Raisin Crisp', 'Post Nat. Raisin Bran', 'Product 19',\n",
              "       'Puffed Rice', 'Puffed Wheat', 'Quaker Oat Squares', 'Quaker Oatmeal',\n",
              "       'Raisin Bran', 'Raisin Nut Bran', 'Raisin Squares', 'Rice Chex',\n",
              "       'Rice Krispies', 'Shredded Wheat', 'Shredded Wheat 'n'Bran',\n",
              "       'Shredded Wheat spoon size', 'Smacks', 'Special K',\n",
              "       'Strawberry Fruit Wheats', 'Total Corn Flakes', 'Total Raisin Bran',\n",
              "       'Total Whole Grain', 'Triples', 'Trix', 'Wheat Chex', 'Wheaties',\n",
              "       'Wheaties Honey Gold'],\n",
              "      dtype='object', name='name')"
            ]
          },
          "metadata": {
            "tags": []
          },
          "execution_count": 96
        }
      ]
    },
    {
      "metadata": {
        "id": "YhJv1o4lFxh-",
        "colab_type": "code",
        "colab": {
          "base_uri": "https://localhost:8080/",
          "height": 306
        },
        "outputId": "f026f5ce-5808-4006-a3cf-adf0c6f18be6"
      },
      "cell_type": "code",
      "source": [
        "df.loc['All-Bran with Extra Fiber']"
      ],
      "execution_count": 98,
      "outputs": [
        {
          "output_type": "execute_result",
          "data": {
            "text/plain": [
              "name        All-Bran with Extra Fiber\n",
              "mfr                                 K\n",
              "type                                C\n",
              "calories                           50\n",
              "protein                             4\n",
              "fat                                 0\n",
              "sodium                            140\n",
              "fiber                              14\n",
              "carbo                               8\n",
              "sugars                              0\n",
              "potass                            330\n",
              "vitamins                           25\n",
              "shelf                               3\n",
              "weight                              1\n",
              "cups                              0.5\n",
              "rating                        93.7049\n",
              "Name: All-Bran with Extra Fiber, dtype: object"
            ]
          },
          "metadata": {
            "tags": []
          },
          "execution_count": 98
        }
      ]
    },
    {
      "metadata": {
        "id": "LbrH9dQgF58h",
        "colab_type": "code",
        "colab": {
          "base_uri": "https://localhost:8080/",
          "height": 142
        },
        "outputId": "3d6aaa83-0343-4abb-91b0-5430633e29e6"
      },
      "cell_type": "code",
      "source": [
        "df.loc[['All-Bran with Extra Fiber', 'Rice Krispies']]"
      ],
      "execution_count": 99,
      "outputs": [
        {
          "output_type": "execute_result",
          "data": {
            "text/html": [
              "<div>\n",
              "<style scoped>\n",
              "    .dataframe tbody tr th:only-of-type {\n",
              "        vertical-align: middle;\n",
              "    }\n",
              "\n",
              "    .dataframe tbody tr th {\n",
              "        vertical-align: top;\n",
              "    }\n",
              "\n",
              "    .dataframe thead th {\n",
              "        text-align: right;\n",
              "    }\n",
              "</style>\n",
              "<table border=\"1\" class=\"dataframe\">\n",
              "  <thead>\n",
              "    <tr style=\"text-align: right;\">\n",
              "      <th></th>\n",
              "      <th>name</th>\n",
              "      <th>mfr</th>\n",
              "      <th>type</th>\n",
              "      <th>calories</th>\n",
              "      <th>protein</th>\n",
              "      <th>fat</th>\n",
              "      <th>sodium</th>\n",
              "      <th>fiber</th>\n",
              "      <th>carbo</th>\n",
              "      <th>sugars</th>\n",
              "      <th>potass</th>\n",
              "      <th>vitamins</th>\n",
              "      <th>shelf</th>\n",
              "      <th>weight</th>\n",
              "      <th>cups</th>\n",
              "      <th>rating</th>\n",
              "    </tr>\n",
              "    <tr>\n",
              "      <th>name</th>\n",
              "      <th></th>\n",
              "      <th></th>\n",
              "      <th></th>\n",
              "      <th></th>\n",
              "      <th></th>\n",
              "      <th></th>\n",
              "      <th></th>\n",
              "      <th></th>\n",
              "      <th></th>\n",
              "      <th></th>\n",
              "      <th></th>\n",
              "      <th></th>\n",
              "      <th></th>\n",
              "      <th></th>\n",
              "      <th></th>\n",
              "      <th></th>\n",
              "    </tr>\n",
              "  </thead>\n",
              "  <tbody>\n",
              "    <tr>\n",
              "      <th>All-Bran with Extra Fiber</th>\n",
              "      <td>All-Bran with Extra Fiber</td>\n",
              "      <td>K</td>\n",
              "      <td>C</td>\n",
              "      <td>50</td>\n",
              "      <td>4</td>\n",
              "      <td>0</td>\n",
              "      <td>140</td>\n",
              "      <td>14.0</td>\n",
              "      <td>8.0</td>\n",
              "      <td>0</td>\n",
              "      <td>330</td>\n",
              "      <td>25</td>\n",
              "      <td>3</td>\n",
              "      <td>1.0</td>\n",
              "      <td>0.5</td>\n",
              "      <td>93.704912</td>\n",
              "    </tr>\n",
              "    <tr>\n",
              "      <th>Rice Krispies</th>\n",
              "      <td>Rice Krispies</td>\n",
              "      <td>K</td>\n",
              "      <td>C</td>\n",
              "      <td>110</td>\n",
              "      <td>2</td>\n",
              "      <td>0</td>\n",
              "      <td>290</td>\n",
              "      <td>0.0</td>\n",
              "      <td>22.0</td>\n",
              "      <td>3</td>\n",
              "      <td>35</td>\n",
              "      <td>25</td>\n",
              "      <td>1</td>\n",
              "      <td>1.0</td>\n",
              "      <td>1.0</td>\n",
              "      <td>40.560159</td>\n",
              "    </tr>\n",
              "  </tbody>\n",
              "</table>\n",
              "</div>"
            ],
            "text/plain": [
              "                                                name mfr type  calories  \\\n",
              "name                                                                      \n",
              "All-Bran with Extra Fiber  All-Bran with Extra Fiber   K    C        50   \n",
              "Rice Krispies                          Rice Krispies   K    C       110   \n",
              "\n",
              "                           protein  fat  sodium  fiber  carbo  sugars  potass  \\\n",
              "name                                                                            \n",
              "All-Bran with Extra Fiber        4    0     140   14.0    8.0       0     330   \n",
              "Rice Krispies                    2    0     290    0.0   22.0       3      35   \n",
              "\n",
              "                           vitamins  shelf  weight  cups     rating  \n",
              "name                                                                 \n",
              "All-Bran with Extra Fiber        25      3     1.0   0.5  93.704912  \n",
              "Rice Krispies                    25      1     1.0   1.0  40.560159  "
            ]
          },
          "metadata": {
            "tags": []
          },
          "execution_count": 99
        }
      ]
    },
    {
      "metadata": {
        "id": "ysoImuWCGLlP",
        "colab_type": "text"
      },
      "cell_type": "markdown",
      "source": [
        "We can select specific columns and rows as below."
      ]
    },
    {
      "metadata": {
        "id": "rF9MCS-BGDU2",
        "colab_type": "code",
        "colab": {
          "base_uri": "https://localhost:8080/",
          "height": 142
        },
        "outputId": "5be477c7-f02b-4616-ddd7-c145c16cc1f1"
      },
      "cell_type": "code",
      "source": [
        "df.loc[['All-Bran with Extra Fiber', 'Rice Krispies'], [\"mfr\", \"fat\"]]"
      ],
      "execution_count": 101,
      "outputs": [
        {
          "output_type": "execute_result",
          "data": {
            "text/html": [
              "<div>\n",
              "<style scoped>\n",
              "    .dataframe tbody tr th:only-of-type {\n",
              "        vertical-align: middle;\n",
              "    }\n",
              "\n",
              "    .dataframe tbody tr th {\n",
              "        vertical-align: top;\n",
              "    }\n",
              "\n",
              "    .dataframe thead th {\n",
              "        text-align: right;\n",
              "    }\n",
              "</style>\n",
              "<table border=\"1\" class=\"dataframe\">\n",
              "  <thead>\n",
              "    <tr style=\"text-align: right;\">\n",
              "      <th></th>\n",
              "      <th>mfr</th>\n",
              "      <th>fat</th>\n",
              "    </tr>\n",
              "    <tr>\n",
              "      <th>name</th>\n",
              "      <th></th>\n",
              "      <th></th>\n",
              "    </tr>\n",
              "  </thead>\n",
              "  <tbody>\n",
              "    <tr>\n",
              "      <th>All-Bran with Extra Fiber</th>\n",
              "      <td>K</td>\n",
              "      <td>0</td>\n",
              "    </tr>\n",
              "    <tr>\n",
              "      <th>Rice Krispies</th>\n",
              "      <td>K</td>\n",
              "      <td>0</td>\n",
              "    </tr>\n",
              "  </tbody>\n",
              "</table>\n",
              "</div>"
            ],
            "text/plain": [
              "                          mfr  fat\n",
              "name                              \n",
              "All-Bran with Extra Fiber   K    0\n",
              "Rice Krispies               K    0"
            ]
          },
          "metadata": {
            "tags": []
          },
          "execution_count": 101
        }
      ]
    },
    {
      "metadata": {
        "id": "CCeCCiNDGScw",
        "colab_type": "text"
      },
      "cell_type": "markdown",
      "source": [
        "Boolean Indexing is also a great feature that helps search nicely. For example, below we select calores and fat of all rows whos mfr is 'K'. Notice how index name is showing automatically now."
      ]
    },
    {
      "metadata": {
        "id": "pvBdRMVeGYCd",
        "colab_type": "code",
        "colab": {
          "base_uri": "https://localhost:8080/",
          "height": 793
        },
        "outputId": "553d6b62-8387-4a2c-8349-5057d856cba7"
      },
      "cell_type": "code",
      "source": [
        "df.loc[df['mfr']=='K', ['calories', 'fat']]"
      ],
      "execution_count": 104,
      "outputs": [
        {
          "output_type": "execute_result",
          "data": {
            "text/html": [
              "<div>\n",
              "<style scoped>\n",
              "    .dataframe tbody tr th:only-of-type {\n",
              "        vertical-align: middle;\n",
              "    }\n",
              "\n",
              "    .dataframe tbody tr th {\n",
              "        vertical-align: top;\n",
              "    }\n",
              "\n",
              "    .dataframe thead th {\n",
              "        text-align: right;\n",
              "    }\n",
              "</style>\n",
              "<table border=\"1\" class=\"dataframe\">\n",
              "  <thead>\n",
              "    <tr style=\"text-align: right;\">\n",
              "      <th></th>\n",
              "      <th>calories</th>\n",
              "      <th>fat</th>\n",
              "    </tr>\n",
              "    <tr>\n",
              "      <th>name</th>\n",
              "      <th></th>\n",
              "      <th></th>\n",
              "    </tr>\n",
              "  </thead>\n",
              "  <tbody>\n",
              "    <tr>\n",
              "      <th>All-Bran</th>\n",
              "      <td>70</td>\n",
              "      <td>1</td>\n",
              "    </tr>\n",
              "    <tr>\n",
              "      <th>All-Bran with Extra Fiber</th>\n",
              "      <td>50</td>\n",
              "      <td>0</td>\n",
              "    </tr>\n",
              "    <tr>\n",
              "      <th>Apple Jacks</th>\n",
              "      <td>110</td>\n",
              "      <td>0</td>\n",
              "    </tr>\n",
              "    <tr>\n",
              "      <th>Corn Flakes</th>\n",
              "      <td>100</td>\n",
              "      <td>0</td>\n",
              "    </tr>\n",
              "    <tr>\n",
              "      <th>Corn Pops</th>\n",
              "      <td>110</td>\n",
              "      <td>0</td>\n",
              "    </tr>\n",
              "    <tr>\n",
              "      <th>Cracklin' Oat Bran</th>\n",
              "      <td>110</td>\n",
              "      <td>3</td>\n",
              "    </tr>\n",
              "    <tr>\n",
              "      <th>Crispix</th>\n",
              "      <td>110</td>\n",
              "      <td>0</td>\n",
              "    </tr>\n",
              "    <tr>\n",
              "      <th>Froot Loops</th>\n",
              "      <td>110</td>\n",
              "      <td>1</td>\n",
              "    </tr>\n",
              "    <tr>\n",
              "      <th>Frosted Flakes</th>\n",
              "      <td>110</td>\n",
              "      <td>0</td>\n",
              "    </tr>\n",
              "    <tr>\n",
              "      <th>Frosted Mini-Wheats</th>\n",
              "      <td>100</td>\n",
              "      <td>0</td>\n",
              "    </tr>\n",
              "    <tr>\n",
              "      <th>Fruitful Bran</th>\n",
              "      <td>120</td>\n",
              "      <td>0</td>\n",
              "    </tr>\n",
              "    <tr>\n",
              "      <th>Just Right Crunchy  Nuggets</th>\n",
              "      <td>110</td>\n",
              "      <td>1</td>\n",
              "    </tr>\n",
              "    <tr>\n",
              "      <th>Just Right Fruit &amp; Nut</th>\n",
              "      <td>140</td>\n",
              "      <td>1</td>\n",
              "    </tr>\n",
              "    <tr>\n",
              "      <th>Mueslix Crispy Blend</th>\n",
              "      <td>160</td>\n",
              "      <td>2</td>\n",
              "    </tr>\n",
              "    <tr>\n",
              "      <th>Nut&amp;Honey Crunch</th>\n",
              "      <td>120</td>\n",
              "      <td>1</td>\n",
              "    </tr>\n",
              "    <tr>\n",
              "      <th>Nutri-Grain Almond-Raisin</th>\n",
              "      <td>140</td>\n",
              "      <td>2</td>\n",
              "    </tr>\n",
              "    <tr>\n",
              "      <th>Nutri-grain Wheat</th>\n",
              "      <td>90</td>\n",
              "      <td>0</td>\n",
              "    </tr>\n",
              "    <tr>\n",
              "      <th>Product 19</th>\n",
              "      <td>100</td>\n",
              "      <td>0</td>\n",
              "    </tr>\n",
              "    <tr>\n",
              "      <th>Raisin Bran</th>\n",
              "      <td>120</td>\n",
              "      <td>1</td>\n",
              "    </tr>\n",
              "    <tr>\n",
              "      <th>Raisin Squares</th>\n",
              "      <td>90</td>\n",
              "      <td>0</td>\n",
              "    </tr>\n",
              "    <tr>\n",
              "      <th>Rice Krispies</th>\n",
              "      <td>110</td>\n",
              "      <td>0</td>\n",
              "    </tr>\n",
              "    <tr>\n",
              "      <th>Smacks</th>\n",
              "      <td>110</td>\n",
              "      <td>1</td>\n",
              "    </tr>\n",
              "    <tr>\n",
              "      <th>Special K</th>\n",
              "      <td>110</td>\n",
              "      <td>0</td>\n",
              "    </tr>\n",
              "  </tbody>\n",
              "</table>\n",
              "</div>"
            ],
            "text/plain": [
              "                             calories  fat\n",
              "name                                      \n",
              "All-Bran                           70    1\n",
              "All-Bran with Extra Fiber          50    0\n",
              "Apple Jacks                       110    0\n",
              "Corn Flakes                       100    0\n",
              "Corn Pops                         110    0\n",
              "Cracklin' Oat Bran                110    3\n",
              "Crispix                           110    0\n",
              "Froot Loops                       110    1\n",
              "Frosted Flakes                    110    0\n",
              "Frosted Mini-Wheats               100    0\n",
              "Fruitful Bran                     120    0\n",
              "Just Right Crunchy  Nuggets       110    1\n",
              "Just Right Fruit & Nut            140    1\n",
              "Mueslix Crispy Blend              160    2\n",
              "Nut&Honey Crunch                  120    1\n",
              "Nutri-Grain Almond-Raisin         140    2\n",
              "Nutri-grain Wheat                  90    0\n",
              "Product 19                        100    0\n",
              "Raisin Bran                       120    1\n",
              "Raisin Squares                     90    0\n",
              "Rice Krispies                     110    0\n",
              "Smacks                            110    1\n",
              "Special K                         110    0"
            ]
          },
          "metadata": {
            "tags": []
          },
          "execution_count": 104
        }
      ]
    },
    {
      "metadata": {
        "id": "7ORrQhsDGzJH",
        "colab_type": "text"
      },
      "cell_type": "markdown",
      "source": [
        "In below code we select all rows where calories > 100 and fat  > 1. See use of operator &. IMPORTANT: each operant of & must be included in parenthesis (). This is for operator precedence to work properly."
      ]
    },
    {
      "metadata": {
        "id": "ZeZKTcFgG-6m",
        "colab_type": "code",
        "colab": {
          "base_uri": "https://localhost:8080/",
          "height": 607
        },
        "outputId": "067629cf-70e2-4ac9-de3e-734fba4d277b"
      },
      "cell_type": "code",
      "source": [
        "df.loc[(df['calories']>100) & (df['fat']>1), ['calories', 'fat']]"
      ],
      "execution_count": 110,
      "outputs": [
        {
          "output_type": "execute_result",
          "data": {
            "text/html": [
              "<div>\n",
              "<style scoped>\n",
              "    .dataframe tbody tr th:only-of-type {\n",
              "        vertical-align: middle;\n",
              "    }\n",
              "\n",
              "    .dataframe tbody tr th {\n",
              "        vertical-align: top;\n",
              "    }\n",
              "\n",
              "    .dataframe thead th {\n",
              "        text-align: right;\n",
              "    }\n",
              "</style>\n",
              "<table border=\"1\" class=\"dataframe\">\n",
              "  <thead>\n",
              "    <tr style=\"text-align: right;\">\n",
              "      <th></th>\n",
              "      <th>calories</th>\n",
              "      <th>fat</th>\n",
              "    </tr>\n",
              "    <tr>\n",
              "      <th>name</th>\n",
              "      <th></th>\n",
              "      <th></th>\n",
              "    </tr>\n",
              "  </thead>\n",
              "  <tbody>\n",
              "    <tr>\n",
              "      <th>100% Natural Bran</th>\n",
              "      <td>120</td>\n",
              "      <td>5</td>\n",
              "    </tr>\n",
              "    <tr>\n",
              "      <th>Almond Delight</th>\n",
              "      <td>110</td>\n",
              "      <td>2</td>\n",
              "    </tr>\n",
              "    <tr>\n",
              "      <th>Apple Cinnamon Cheerios</th>\n",
              "      <td>110</td>\n",
              "      <td>2</td>\n",
              "    </tr>\n",
              "    <tr>\n",
              "      <th>Basic 4</th>\n",
              "      <td>130</td>\n",
              "      <td>2</td>\n",
              "    </tr>\n",
              "    <tr>\n",
              "      <th>Cap'n'Crunch</th>\n",
              "      <td>120</td>\n",
              "      <td>2</td>\n",
              "    </tr>\n",
              "    <tr>\n",
              "      <th>Cheerios</th>\n",
              "      <td>110</td>\n",
              "      <td>2</td>\n",
              "    </tr>\n",
              "    <tr>\n",
              "      <th>Cinnamon Toast Crunch</th>\n",
              "      <td>120</td>\n",
              "      <td>3</td>\n",
              "    </tr>\n",
              "    <tr>\n",
              "      <th>Clusters</th>\n",
              "      <td>110</td>\n",
              "      <td>2</td>\n",
              "    </tr>\n",
              "    <tr>\n",
              "      <th>Cracklin' Oat Bran</th>\n",
              "      <td>110</td>\n",
              "      <td>3</td>\n",
              "    </tr>\n",
              "    <tr>\n",
              "      <th>Fruit &amp; Fibre Dates; Walnuts; and Oats</th>\n",
              "      <td>120</td>\n",
              "      <td>2</td>\n",
              "    </tr>\n",
              "    <tr>\n",
              "      <th>Great Grains Pecan</th>\n",
              "      <td>120</td>\n",
              "      <td>3</td>\n",
              "    </tr>\n",
              "    <tr>\n",
              "      <th>Honey Graham Ohs</th>\n",
              "      <td>120</td>\n",
              "      <td>2</td>\n",
              "    </tr>\n",
              "    <tr>\n",
              "      <th>Muesli Raisins; Dates; &amp; Almonds</th>\n",
              "      <td>150</td>\n",
              "      <td>3</td>\n",
              "    </tr>\n",
              "    <tr>\n",
              "      <th>Muesli Raisins; Peaches; &amp; Pecans</th>\n",
              "      <td>150</td>\n",
              "      <td>3</td>\n",
              "    </tr>\n",
              "    <tr>\n",
              "      <th>Mueslix Crispy Blend</th>\n",
              "      <td>160</td>\n",
              "      <td>2</td>\n",
              "    </tr>\n",
              "    <tr>\n",
              "      <th>Nutri-Grain Almond-Raisin</th>\n",
              "      <td>140</td>\n",
              "      <td>2</td>\n",
              "    </tr>\n",
              "    <tr>\n",
              "      <th>Oatmeal Raisin Crisp</th>\n",
              "      <td>130</td>\n",
              "      <td>2</td>\n",
              "    </tr>\n",
              "  </tbody>\n",
              "</table>\n",
              "</div>"
            ],
            "text/plain": [
              "                                        calories  fat\n",
              "name                                                 \n",
              "100% Natural Bran                            120    5\n",
              "Almond Delight                               110    2\n",
              "Apple Cinnamon Cheerios                      110    2\n",
              "Basic 4                                      130    2\n",
              "Cap'n'Crunch                                 120    2\n",
              "Cheerios                                     110    2\n",
              "Cinnamon Toast Crunch                        120    3\n",
              "Clusters                                     110    2\n",
              "Cracklin' Oat Bran                           110    3\n",
              "Fruit & Fibre Dates; Walnuts; and Oats       120    2\n",
              "Great Grains Pecan                           120    3\n",
              "Honey Graham Ohs                             120    2\n",
              "Muesli Raisins; Dates; & Almonds             150    3\n",
              "Muesli Raisins; Peaches; & Pecans            150    3\n",
              "Mueslix Crispy Blend                         160    2\n",
              "Nutri-Grain Almond-Raisin                    140    2\n",
              "Oatmeal Raisin Crisp                         130    2"
            ]
          },
          "metadata": {
            "tags": []
          },
          "execution_count": 110
        }
      ]
    },
    {
      "metadata": {
        "id": "zCmSNQ9tIDE2",
        "colab_type": "text"
      },
      "cell_type": "markdown",
      "source": [
        "We shall see more of data wrangling in Pandas in subsequent tutorials. For now, this should suffice. If you have completed [intermediate python for data science](https://www.datacamp.com/courses/intermediate-python-for-data-science) course in datacamp, you must be familiar with all we have discussed until now and even more."
      ]
    },
    {
      "metadata": {
        "id": "QmjBeB79Wmso",
        "colab_type": "text"
      },
      "cell_type": "markdown",
      "source": [
        "# Types of Data\n",
        "It is now high time to refresh our knowledge on data types. Say we measure height, weight, gender of students in a college. The entity is student and for each student we will have a row in our table. And the columns are height, weight and gender. These are called features also of the dataset.\n",
        "\n",
        "![Types of data](https://cdn.shopify.com/s/files/1/1334/2321/articles/Picture1.png?v=1497575369)\n",
        "\n",
        "Each feature must have a data type. For example height and weight are continuous floating point numbers and gender is nominal data.\n",
        "\n",
        "# Describing your data\n",
        "Data is described by its measures of center (mean, median or mode) and the measures of variability (variance, standard deviation).\n",
        "\n",
        "**Central Tendency**\n",
        "\n",
        "**mean** can only be calculated for numerical data, but is susceptible to outliers. For example average of 2,3,4,6,20 is 7 but most of the values are below 7. The outlier 20 makes the mean not represent the center properly. **mode** is the data item that occurs most frequently and hence is applicable to any type of data. **median** is not susceptible to outlers. Median of 2,3,4,6,20 is 4. [Here is a nice article](https://statistics.laerd.com/statistical-guides/measures-central-tendency-mean-mode-median.php) that describe these well.\n",
        "\n",
        "**Variability**\n",
        "\n",
        "It measures the spread of your data, how far apart or together is your data. If data points are together variability is low and vice versa. Do [read this](http://onlinestatbook.com/2/summarizing_distributions/variability.html) for nice description.\n",
        "\n",
        "We have already seen how using Python's DataFrame objects we can see these attributes as output of the describe method. Let us now see how we can visualize the data\n",
        "\n",
        "\n",
        "\n"
      ]
    },
    {
      "metadata": {
        "id": "g3nxE5jgJ6Im",
        "colab_type": "text"
      },
      "cell_type": "markdown",
      "source": [
        "# Data Visualization with matplotlib\n",
        "Matplotlib is a 2d plotting library which produces publication quality figures in a variety of hardcopy formats and interactive environments. Matplotlib can be used in Python scripts, Python and IPython shell, Jupyter Notebook, web application servers and GUI toolkits.\n",
        "\n",
        "matplotlib.pyplot is a collection of functions that make matplotlib work like MATLAB. Majority of plotting commands in pyplot have MATLAB analogs with similar arguments. Let us take a couple of examples:"
      ]
    },
    {
      "metadata": {
        "id": "pEoJ1O1_GBOC",
        "colab_type": "code",
        "colab": {
          "base_uri": "https://localhost:8080/",
          "height": 347
        },
        "outputId": "ccc06db6-8dd4-4100-db4c-9c122d00f30e"
      },
      "cell_type": "code",
      "source": [
        "import matplotlib.pyplot as plt\n",
        "plt.plot([1, 5, 7, 3, 4, 2])\n",
        "plt.ylabel('some numbers')\n",
        "plt.show()"
      ],
      "execution_count": 115,
      "outputs": [
        {
          "output_type": "display_data",
          "data": {
            "image/png": "[encoded data removed]",
            "text/plain": [
              "<matplotlib.figure.Figure at 0x7fdea40a7710>"
            ]
          },
          "metadata": {
            "tags": []
          }
        }
      ]
    },
    {
      "metadata": {
        "id": "9EGumJAMCyGW",
        "colab_type": "text"
      },
      "cell_type": "markdown",
      "source": [
        "The above code shows steps to create a plot:\n",
        "1. import the pyplot module of matplotlib package. Globally people use plt alias and so do us!\n",
        "2. use plot method and pass the data to plot\n",
        "3. set plot attributes like labels etc.\n",
        "4. display or show the plot\n",
        "\n",
        "Let us see how we can display a histogram. Note that histogram is plot of frequency distribution of your data, i.e. how many times each value appears in the data. Histogram is only for numerical data. If there are too many values, we can make is easy to see, by dividing our bar ranges in to bins. See example below where we divide the entire input range in 5 bins. Notice the use of **hist** function instead of plot."
      ]
    },
    {
      "metadata": {
        "id": "TuQ7afFuLBPb",
        "colab_type": "code",
        "colab": {
          "base_uri": "https://localhost:8080/",
          "height": 347
        },
        "outputId": "5bd1b8f2-6d09-4a1e-be62-0981d7b5a7a6"
      },
      "cell_type": "code",
      "source": [
        "x = [21,22,23,4,5,6,77,8,9,10,31,32,33,34,35,36,37,18,49,50,100]\n",
        "num_bins = 5\n",
        "plt.hist(x, num_bins, facecolor='blue')\n",
        "plt.show()"
      ],
      "execution_count": 113,
      "outputs": [
        {
          "output_type": "display_data",
          "data": {
            "image/png": "[encoded data removed]",
            "text/plain": [
              "<matplotlib.figure.Figure at 0x7fdea69df048>"
            ]
          },
          "metadata": {
            "tags": []
          }
        }
      ]
    },
    {
      "metadata": {
        "id": "9gynr0VkLoKq",
        "colab_type": "text"
      },
      "cell_type": "markdown",
      "source": [
        "The histogram usually tells us the distribution of data. Why is it important? Letus take an example. Suppose you are a teacher in a university. After checking assignments for a week, you graded all the students. You gave these graded papers to a data entry guy in the university and tell him to create a spreadsheet containing the grades of all the students. But the guy only stores the grades and not the corresponding students.\n",
        "\n",
        "![alt text](https://s3-ap-south-1.amazonaws.com/av-blog-media/wp-content/uploads/2017/09/18144707/data.png)\n",
        "\n",
        "He made another blunder, he missed a couple of entries in a hurry and we have no idea whose grades are missing. Let’s find a way to solve this.\n",
        "\n",
        "One way is that you visualize the grades and see if you can find a trend in the data.\n",
        "\n",
        "![alt text](https://s3-ap-south-1.amazonaws.com/av-blog-media/wp-content/uploads/2017/09/18143526/image672.png)\n",
        "\n",
        "The graph that you have plot is called the frequency distribution of the data. You see that there is a smooth curve like structure that defines our data, but do you notice an anomaly? We have an abnormally low frequency at a particular score range. So the best guess would be to have missing values that remove the dent in the distribution.\n",
        "\n",
        "This is how you would try to solve a real-life problem using data analysis. For any Data Scientist, a student or a practitioner, distribution is a must know concept. It provides the basis for analytics and inferential statistics.\n",
        "\n",
        "To know more about [probability, read here](https://www.analyticsvidhya.com/blog/2017/02/basic-probability-data-science-with-examples/); and to know more about [distributions, read here](https://www.analyticsvidhya.com/blog/2017/09/6-probability-distributions-data-science/) advanced content)\n",
        "\n",
        "![alt text](https://image.slidesharecdn.com/seminarunivariate-140709142039-phpapp01/95/univariate-analysis-21-638.jpg)\n",
        "\n",
        "The shape of the distribution can assist with identifying other descriptive statistics, such as which measure of central tendency is appropriate to use.\n",
        "\n",
        "If the data are normally distributed, the mean, median and mode are all equal, and therefore are all appropriate measure of centre central tendency. \n",
        "\n",
        "If data are skewed, the median may be a more appropriate measure of central tendency.\n",
        "\n",
        "Let us explore some more plots. Below generates a bar plot. We need to provide the categorical data and corresponding numerical values. the ypos gives the order in which we render those bars. align tells to center the bar for the label on x axis. alpha tells the transparency of the bar. Note the use of xticks to put the x labels and use of ylabel as well as title.\n",
        "\n",
        "Bar chart is only used for categorical data."
      ]
    },
    {
      "metadata": {
        "id": "ySfcTiw9aP_6",
        "colab_type": "code",
        "colab": {
          "base_uri": "https://localhost:8080/",
          "height": 362
        },
        "outputId": "c2a6d520-5515-421a-937a-1e09742f174a"
      },
      "cell_type": "code",
      "source": [
        "import numpy as np\n",
        "objects = ('Python', 'C++', 'Java', 'Perl', 'Scala', 'Lisp')\n",
        "y_pos = np.arange(len(objects))\n",
        "performance = [10,8,6,4,2,1]\n",
        "\n",
        "plt.bar(y_pos, performance, align='center', alpha=0.5)\n",
        "plt.xticks(y_pos, objects)\n",
        "plt.ylabel('Usage')\n",
        "plt.title('Programming language usage')\n",
        " \n",
        "plt.show()"
      ],
      "execution_count": 117,
      "outputs": [
        {
          "output_type": "display_data",
          "data": {
            "image/png": "[encoded data removed]",
            "text/plain": [
              "<matplotlib.figure.Figure at 0x7fdea3e8d438>"
            ]
          },
          "metadata": {
            "tags": []
          }
        }
      ]
    },
    {
      "metadata": {
        "id": "FofmpPv3bPTx",
        "colab_type": "text"
      },
      "cell_type": "markdown",
      "source": [
        "Can you use barh method (to make horizontal bar chart) in code below? would you still use xticks and y label or change them?"
      ]
    },
    {
      "metadata": {
        "id": "R-GLfGnibbO_",
        "colab_type": "code",
        "colab": {}
      },
      "cell_type": "code",
      "source": [
        ""
      ],
      "execution_count": 0,
      "outputs": []
    },
    {
      "metadata": {
        "id": "jVmeuGJSbcJ2",
        "colab_type": "text"
      },
      "cell_type": "markdown",
      "source": [
        "You can also have multiple data series on same plot. Can you deduce what each line of code is doing below?"
      ]
    },
    {
      "metadata": {
        "id": "_ph1bucJbhJk",
        "colab_type": "code",
        "colab": {
          "base_uri": "https://localhost:8080/",
          "height": 401
        },
        "outputId": "8015e2b9-bd7f-43dd-da48-71f3527ed087"
      },
      "cell_type": "code",
      "source": [
        "import numpy as np\n",
        "import matplotlib.pyplot as plt\n",
        " \n",
        "# data to plot\n",
        "n_groups = 4\n",
        "means_frank = (90, 55, 40, 65)\n",
        "means_guido = (85, 62, 54, 20)\n",
        " \n",
        "# create plot\n",
        "fig, ax = plt.subplots()\n",
        "index = np.arange(n_groups)\n",
        "bar_width = 0.35\n",
        "opacity = 0.8\n",
        " \n",
        "rects1 = plt.bar(index, means_frank, bar_width,\n",
        "                 alpha=opacity,\n",
        "                 color='b',\n",
        "                 label='Frank')\n",
        " \n",
        "rects2 = plt.bar(index + bar_width, means_guido, bar_width,\n",
        "                 alpha=opacity,\n",
        "                 color='g',\n",
        "                 label='Guido')\n",
        " \n",
        "plt.xlabel('Person')\n",
        "plt.ylabel('Scores')\n",
        "plt.title('Scores by person')\n",
        "plt.xticks(index + bar_width, ('A', 'B', 'C', 'D'))\n",
        "plt.legend()\n",
        " \n",
        "plt.tight_layout()\n",
        "plt.show()"
      ],
      "execution_count": 118,
      "outputs": [
        {
          "output_type": "display_data",
          "data": {
            "image/png": "[encoded data removed]",
            "text/plain": [
              "<matplotlib.figure.Figure at 0x7fdea3e56d68>"
            ]
          },
          "metadata": {
            "tags": []
          }
        }
      ]
    },
    {
      "metadata": {
        "id": "C6qApkKCb6EV",
        "colab_type": "text"
      },
      "cell_type": "markdown",
      "source": [
        "You can learn more of data visualization from [Datacamp's intro to data visualization with Python](https://www.datacamp.com/courses/introduction-to-data-visualization-with-python) course.\n",
        "\n",
        "Do complete the quiz on vishnulearning.in after reading this content! All the best.\n",
        "\n",
        "MLCC Bhimavaram Team"
      ]
    },
    {
      "metadata": {
        "id": "joWpjZ8naJJ3",
        "colab_type": "text"
      },
      "cell_type": "markdown",
      "source": [
        "# References\n",
        "\n",
        "\n",
        "\n",
        "1.   [NumPy and Pandas Tutorial – Data Analysis with Python](https://cloudxlab.com/blog/numpy-pandas-introduction/)\n",
        "2.   [VECTORIZATION AND PARALLELIZATION IN PYTHON WITH NUMPY AND PANDAS](https://datascience.blog.wzb.eu/2018/02/02/vectorization-and-parallelization-in-python-with-numpy-and-pandas/)\n",
        "3.   [Further Mathematics](https://legac.com.au/blogs/further-mathematics-exam-revision/further-mathematics-unit-3-data-analysis-types-of-data)\n",
        "4. [Pandas Tutorial: Importing Data with read_csv()](https://www.datacamp.com/community/tutorials/pandas-read-csv)\n",
        "5. [Common Probability distributions every data science professional should know](https://www.analyticsvidhya.com/blog/2017/09/6-probability-distributions-data-science/)\n",
        "6. [Statistical Langiage - Measures of Shape](http://www.abs.gov.au/websitedbs/a3121120.nsf/home/statistical+language+-+measures+of+shape)\n",
        "\n",
        "\n",
        "\n"
      ]
    }
  ]
}